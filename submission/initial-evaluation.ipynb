{
 "cells": [
  {
   "cell_type": "code",
   "execution_count": 8,
   "metadata": {},
   "outputs": [],
   "source": [
    "# Imports\n",
    "from tira.third_party_integrations import ensure_pyterrier_is_loaded, persist_and_normalize_run\n",
    "from tira.rest_api_client import Client\n",
    "import pyterrier as pt\n",
    "import pandas as pd"
   ]
  },
  {
   "cell_type": "code",
   "execution_count": 9,
   "metadata": {},
   "outputs": [],
   "source": [
    "# Create a REST client to the TIRA platform for retrieving the pre-indexed data.\n",
    "ensure_pyterrier_is_loaded()\n",
    "tira = Client()"
   ]
  },
  {
   "cell_type": "code",
   "execution_count": 10,
   "metadata": {},
   "outputs": [],
   "source": [
    "# The dataset: the union of the IR Anthology and the ACL Anthology\n",
    "# This line creates an IRDSDataset object and registers it under the name provided as an argument.\n",
    "pt_dataset = pt.get_dataset('irds:ir-lab-sose-2024/ir-acl-anthology-20240504-training')"
   ]
  },
  {
   "cell_type": "code",
   "execution_count": 11,
   "metadata": {},
   "outputs": [
    {
     "name": "stdout",
     "output_type": "stream",
     "text": [
      "There are multiple query fields available: ('text', 'title', 'query', 'description', 'narrative'). To use with pyterrier, provide variant or modify dataframe to add query column.\n"
     ]
    },
    {
     "data": {
      "text/html": [
       "<div>\n",
       "<style scoped>\n",
       "    .dataframe tbody tr th:only-of-type {\n",
       "        vertical-align: middle;\n",
       "    }\n",
       "\n",
       "    .dataframe tbody tr th {\n",
       "        vertical-align: top;\n",
       "    }\n",
       "\n",
       "    .dataframe thead th {\n",
       "        text-align: right;\n",
       "    }\n",
       "</style>\n",
       "<table border=\"1\" class=\"dataframe\">\n",
       "  <thead>\n",
       "    <tr style=\"text-align: right;\">\n",
       "      <th></th>\n",
       "      <th>name</th>\n",
       "      <th>ndcg_cut.10</th>\n",
       "      <th>recip_rank</th>\n",
       "      <th>recall_1000</th>\n",
       "      <th>num_ret</th>\n",
       "      <th>num_rel</th>\n",
       "      <th>num_rel_ret</th>\n",
       "      <th>num_q</th>\n",
       "    </tr>\n",
       "  </thead>\n",
       "  <tbody>\n",
       "    <tr>\n",
       "      <th>0</th>\n",
       "      <td>BM25</td>\n",
       "      <td>0.374041</td>\n",
       "      <td>0.579877</td>\n",
       "      <td>0.825376</td>\n",
       "      <td>66283.0</td>\n",
       "      <td>1354.0</td>\n",
       "      <td>1101.0</td>\n",
       "      <td>68.0</td>\n",
       "    </tr>\n",
       "    <tr>\n",
       "      <th>1</th>\n",
       "      <td>Abbrevation</td>\n",
       "      <td>0.367477</td>\n",
       "      <td>0.568112</td>\n",
       "      <td>0.825376</td>\n",
       "      <td>68000.0</td>\n",
       "      <td>1354.0</td>\n",
       "      <td>1101.0</td>\n",
       "      <td>68.0</td>\n",
       "    </tr>\n",
       "    <tr>\n",
       "      <th>2</th>\n",
       "      <td>Ngrams</td>\n",
       "      <td>0.352402</td>\n",
       "      <td>0.567611</td>\n",
       "      <td>0.717923</td>\n",
       "      <td>62878.0</td>\n",
       "      <td>1354.0</td>\n",
       "      <td>908.0</td>\n",
       "      <td>68.0</td>\n",
       "    </tr>\n",
       "  </tbody>\n",
       "</table>\n",
       "</div>"
      ],
      "text/plain": [
       "          name  ndcg_cut.10  recip_rank  recall_1000  num_ret  num_rel  \\\n",
       "0         BM25     0.374041    0.579877     0.825376  66283.0   1354.0   \n",
       "1  Abbrevation     0.367477    0.568112     0.825376  68000.0   1354.0   \n",
       "2       Ngrams     0.352402    0.567611     0.717923  62878.0   1354.0   \n",
       "\n",
       "   num_rel_ret  num_q  \n",
       "0       1101.0   68.0  \n",
       "1       1101.0   68.0  \n",
       "2        908.0   68.0  "
      ]
     },
     "execution_count": 11,
     "metadata": {},
     "output_type": "execute_result"
    }
   ],
   "source": [
    "# This assumes we have execited the ../baseline-retrieval-system/baseline-retrieval-system.ipynb notebook before.\n",
    "bm25 = pt.io.read_results('./runs/bm25.txt')\n",
    "abbrevations = pt.io.read_results('./runs/abbrevations.txt')\n",
    "ngrams = pt.io.read_results('./runs/ngrams.txt')\n",
    "pt.Experiment(\n",
    "    [bm25, abbrevations, ngrams],\n",
    "    pt_dataset.get_topics(),\n",
    "    pt_dataset.get_qrels(),\n",
    "    [\"ndcg_cut.10\", \"recip_rank\", \"recall_1000\", \"num_ret\", \"num_rel\",\"num_rel_ret\", \"num_q\"],\n",
    "    names=[\"BM25\", \"Abbrevation\", \"Ngrams\"]\n",
    ")"
   ]
  }
 ],
 "metadata": {
  "kernelspec": {
   "display_name": "Python 3",
   "language": "python",
   "name": "python3"
  },
  "language_info": {
   "codemirror_mode": {
    "name": "ipython",
    "version": 3
   },
   "file_extension": ".py",
   "mimetype": "text/x-python",
   "name": "python",
   "nbconvert_exporter": "python",
   "pygments_lexer": "ipython3",
   "version": "3.10.12"
  }
 },
 "nbformat": 4,
 "nbformat_minor": 2
}
