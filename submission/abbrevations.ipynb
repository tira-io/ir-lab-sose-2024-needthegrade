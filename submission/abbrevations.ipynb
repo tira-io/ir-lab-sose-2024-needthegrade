{
 "cells": [
  {
   "cell_type": "code",
   "execution_count": 1,
   "metadata": {},
   "outputs": [],
   "source": [
    "#imports\n",
    "import openai\n",
    "from tira.third_party_integrations import ensure_pyterrier_is_loaded, persist_and_normalize_run\n",
    "from tira.rest_api_client import Client\n",
    "import pyterrier as pt"
   ]
  },
  {
   "cell_type": "code",
   "execution_count": 2,
   "metadata": {},
   "outputs": [],
   "source": [
    "client = openai.OpenAI() #connect to OpenAI API"
   ]
  },
  {
   "cell_type": "code",
   "execution_count": 3,
   "metadata": {},
   "outputs": [],
   "source": [
    "def ask_gpt(prompt, model=\"gpt-4\", temperature=0):\n",
    "    messages = [{\"role\": \"user\", \"content\": prompt}]\n",
    "    response = client.chat.completions.create(\n",
    "        model=model,\n",
    "        messages=messages,\n",
    "        temperature=temperature\n",
    "    )\n",
    "    return response.choices[0].message.content"
   ]
  },
  {
   "cell_type": "code",
   "execution_count": 4,
   "metadata": {},
   "outputs": [
    {
     "name": "stderr",
     "output_type": "stream",
     "text": [
      "PyTerrier 0.10.0 has loaded Terrier 5.8 (built by craigm on 2023-11-01 18:05) and terrier-helper 0.0.8\n",
      "\n",
      "No etc/terrier.properties, using terrier.default.properties for bootstrap configuration.\n"
     ]
    }
   ],
   "source": [
    "# Create a REST client to the TIRA platform for retrieving the pre-indexed data.\n",
    "ensure_pyterrier_is_loaded()\n",
    "tira = Client()"
   ]
  },
  {
   "cell_type": "code",
   "execution_count": 5,
   "metadata": {},
   "outputs": [],
   "source": [
    "# The dataset: the union of the IR Anthology and the ACL Anthology\n",
    "# This line creates an IRDSDataset object and registers it under the name provided as an argument.\n",
    "pt_dataset = pt.get_dataset('irds:ir-lab-sose-2024/ir-acl-anthology-20240504-training')\n",
    "\n",
    "# A (pre-built) PyTerrier index loaded from TIRA\n",
    "index = tira.pt.index('ir-lab-sose-2024/tira-ir-starter/Index (tira-ir-starter-pyterrier)', pt_dataset)"
   ]
  },
  {
   "cell_type": "code",
   "execution_count": 6,
   "metadata": {},
   "outputs": [],
   "source": [
    "querys = pt_dataset.get_topics('query')"
   ]
  },
  {
   "cell_type": "code",
   "execution_count": 7,
   "metadata": {},
   "outputs": [],
   "source": [
    "def extract_integers_from_qid(df):\n",
    "    # Convert the qid column to integers\n",
    "    return df['qid'].astype(int).tolist()"
   ]
  },
  {
   "cell_type": "code",
   "execution_count": 8,
   "metadata": {},
   "outputs": [],
   "source": [
    "def get_query_by_qid(df, qid):\n",
    "    # Convert the qid to string and find the corresponding query\n",
    "    result = df.loc[df['qid'] == str(qid), 'query']\n",
    "    return result.iloc[0] if not result.empty else None"
   ]
  },
  {
   "cell_type": "code",
   "execution_count": 9,
   "metadata": {},
   "outputs": [],
   "source": [
    "def set_query_by_qid(df, qid, new_query):\n",
    "    # Convert the qid to string and update the query\n",
    "    df.loc[df['qid'] == str(qid), 'query'] = new_query"
   ]
  },
  {
   "cell_type": "code",
   "execution_count": 10,
   "metadata": {},
   "outputs": [],
   "source": [
    "qid_list = extract_integers_from_qid(querys)"
   ]
  },
  {
   "cell_type": "code",
   "execution_count": 11,
   "metadata": {},
   "outputs": [
    {
     "name": "stdout",
     "output_type": "stream",
     "text": [
      "{'1': False, '2': False, '3': False, '4': False, '5': False, '6': False, '7': False, '8': False, '9': False, '10': False, '11': True, '12': False, '13': False, '14': False, '15': False, '16': False, '17': False, '19': False, '20': False, '21': False, '22': False, '23': False, '24': False, '25': False, '26': False, '27': False, '28': False, '29': False, '30': False, '31': False, '32': False, '33': False, '34': False, '35': False, '36': False, '37': False, '38': False, '39': False, '40': False, '41': False, '42': False, '43': False, '44': False, '45': False, '46': False, '47': False, '48': False, '49': False, '50': False, '51': False, '52': False, '53': False, '54': False, '55': True, '56': False, '57': False, '58': False, '59': True, '60': False, '61': False, '62': False, '63': False, '64': False, '65': False, '66': False, '67': False, '68': False, '18': False}\n"
     ]
    }
   ],
   "source": [
    "answers = dict()\n",
    "for i in qid_list:\n",
    "    determine_abbrevation = f\"\"\" \n",
    "    You are an scientific expert especially in the domain of Information Retrieval. Your task is to detect whether\n",
    "    a given query, which is given as a text below delimited by triple quotes, contains an abbrevation then answer with yes or not then answer with no.\n",
    "    For example given a query 'What is crx' you should answer yes, since cxr is the abbrevation for the medical term\n",
    "    'chest X-Ray'. However if the given query is 'What is Information Retrieval' you should answer no, since there is no\n",
    "    abbrevation in the query.\n",
    "\n",
    "    query: '''{get_query_by_qid(querys, i)}'''\n",
    "    \"\"\"\n",
    "    answer = ask_gpt(prompt=determine_abbrevation) #check answer more carefully perhaps model will return not only {yes,no}\n",
    "    #print(answer)\n",
    "    qid = str(i)\n",
    "    if \"yes\" in answer.lower().strip():\n",
    "        answers[qid] = True\n",
    "    else:\n",
    "        answers[qid] = False\n",
    "print(answers)"
   ]
  },
  {
   "cell_type": "code",
   "execution_count": 12,
   "metadata": {},
   "outputs": [
    {
     "name": "stdout",
     "output_type": "stream",
     "text": [
      "Old query:  algorithm acceleration with nvidia cuda\n",
      "New query:  algorithm acceleration with nvidia cuda compute unified device architecture\n",
      "Old query:  bm25\n",
      "New query:  bm25 best match 25\n",
      "Old query:  what is ahp\n",
      "New query:  what is ahp analytic hierarchy process\n"
     ]
    }
   ],
   "source": [
    "for key in answers.keys():\n",
    "    if bool(answers[key]):\n",
    "        #find query\n",
    "        for i in qid_list:\n",
    "            if str(i) == key:\n",
    "                query= get_query_by_qid(querys, key)\n",
    "                print(\"Old query: \",query)\n",
    "        #ask gpt to expand query\n",
    "        expand = f\"\"\" \n",
    "        You are an scientific expert especially in the domain of Information Retrieval. Your are given a query, which is below\n",
    "        delimited by triple quotes, which contains an abbrevation. Your task is to identify the abbrevation and write it, then\n",
    "        concat the original query with the written out abbrevation and return this new query as string only.\n",
    "        For example given a query 'What is crx' you should detect that the abbrevation is crx, since cxr is the abbrevation for the medical term\n",
    "        'chest X-Ray', then you should concat the originial query with the abbrevation 'chest X-Ray' resulting in a new query 'What is crx chest x-ray' which\n",
    "        you should return. Another example, given the query 'Algorithms of nlp' you should detect that the abbrevation is nlp, since nlp is the abbrevation\n",
    "        for the term 'natural language processing', then you should concat the original query 'Algorithms of nlp' with the abbrevation 'natural language processing'  \n",
    "        resulting in a new query 'Algorithms of nlp natural language processing' which you should return.\n",
    "        Please only answer with the new query. So your answer should only include the original query and the detected abbreviated words and no additional information.\n",
    "        Don't wrap your answer in quotation marks.\n",
    "\n",
    "        query: '''{query}'''\n",
    "        \"\"\"\n",
    "        new_query = ask_gpt(prompt=expand).lower().strip().replace(\"'\", \" \").replace('\"', ' ')\n",
    "        print(\"New query: \",new_query)\n",
    "        set_query_by_qid(querys, int(key), new_query) #overwrite old query"
   ]
  },
  {
   "cell_type": "code",
   "execution_count": 15,
   "metadata": {},
   "outputs": [],
   "source": [
    "bm25 = pt.BatchRetrieve(index, wmodel=\"BM25\")"
   ]
  },
  {
   "cell_type": "code",
   "execution_count": 16,
   "metadata": {},
   "outputs": [],
   "source": [
    "run = bm25(querys)"
   ]
  },
  {
   "cell_type": "code",
   "execution_count": 21,
   "metadata": {},
   "outputs": [
    {
     "data": {
      "text/html": [
       "<div>\n",
       "<style scoped>\n",
       "    .dataframe tbody tr th:only-of-type {\n",
       "        vertical-align: middle;\n",
       "    }\n",
       "\n",
       "    .dataframe tbody tr th {\n",
       "        vertical-align: top;\n",
       "    }\n",
       "\n",
       "    .dataframe thead th {\n",
       "        text-align: right;\n",
       "    }\n",
       "</style>\n",
       "<table border=\"1\" class=\"dataframe\">\n",
       "  <thead>\n",
       "    <tr style=\"text-align: right;\">\n",
       "      <th></th>\n",
       "      <th>qid</th>\n",
       "      <th>docid</th>\n",
       "      <th>docno</th>\n",
       "      <th>rank</th>\n",
       "      <th>score</th>\n",
       "      <th>query</th>\n",
       "      <th>system</th>\n",
       "    </tr>\n",
       "  </thead>\n",
       "  <tbody>\n",
       "    <tr>\n",
       "      <th>57000</th>\n",
       "      <td>59</td>\n",
       "      <td>124882</td>\n",
       "      <td>2006.ipm_journal-ir0volumeA42A4.0</td>\n",
       "      <td>0</td>\n",
       "      <td>27.781898</td>\n",
       "      <td>what is ahp analytic hierarchy process</td>\n",
       "      <td>abbrevations</td>\n",
       "    </tr>\n",
       "    <tr>\n",
       "      <th>57001</th>\n",
       "      <td>59</td>\n",
       "      <td>114774</td>\n",
       "      <td>2017.ijirr_journal-ir0volumeA7A3.1</td>\n",
       "      <td>1</td>\n",
       "      <td>25.656730</td>\n",
       "      <td>what is ahp analytic hierarchy process</td>\n",
       "      <td>abbrevations</td>\n",
       "    </tr>\n",
       "    <tr>\n",
       "      <th>57002</th>\n",
       "      <td>59</td>\n",
       "      <td>118484</td>\n",
       "      <td>2013.jasis_journal-ir0volumeA64A7.12</td>\n",
       "      <td>2</td>\n",
       "      <td>22.011661</td>\n",
       "      <td>what is ahp analytic hierarchy process</td>\n",
       "      <td>abbrevations</td>\n",
       "    </tr>\n",
       "    <tr>\n",
       "      <th>57003</th>\n",
       "      <td>59</td>\n",
       "      <td>95978</td>\n",
       "      <td>2007.cikm_conference-2007.51</td>\n",
       "      <td>3</td>\n",
       "      <td>19.821424</td>\n",
       "      <td>what is ahp analytic hierarchy process</td>\n",
       "      <td>abbrevations</td>\n",
       "    </tr>\n",
       "    <tr>\n",
       "      <th>57004</th>\n",
       "      <td>59</td>\n",
       "      <td>114140</td>\n",
       "      <td>2018.wwwjournals_journal-ir0volumeA21A1.3</td>\n",
       "      <td>4</td>\n",
       "      <td>18.963078</td>\n",
       "      <td>what is ahp analytic hierarchy process</td>\n",
       "      <td>abbrevations</td>\n",
       "    </tr>\n",
       "    <tr>\n",
       "      <th>...</th>\n",
       "      <td>...</td>\n",
       "      <td>...</td>\n",
       "      <td>...</td>\n",
       "      <td>...</td>\n",
       "      <td>...</td>\n",
       "      <td>...</td>\n",
       "      <td>...</td>\n",
       "    </tr>\n",
       "    <tr>\n",
       "      <th>57995</th>\n",
       "      <td>59</td>\n",
       "      <td>38713</td>\n",
       "      <td>D17-1123</td>\n",
       "      <td>995</td>\n",
       "      <td>7.263059</td>\n",
       "      <td>what is ahp analytic hierarchy process</td>\n",
       "      <td>abbrevations</td>\n",
       "    </tr>\n",
       "    <tr>\n",
       "      <th>57996</th>\n",
       "      <td>59</td>\n",
       "      <td>58604</td>\n",
       "      <td>C90-3076</td>\n",
       "      <td>996</td>\n",
       "      <td>7.263059</td>\n",
       "      <td>what is ahp analytic hierarchy process</td>\n",
       "      <td>abbrevations</td>\n",
       "    </tr>\n",
       "    <tr>\n",
       "      <th>57997</th>\n",
       "      <td>59</td>\n",
       "      <td>81248</td>\n",
       "      <td>2004.sigirconf_conference-2004.62</td>\n",
       "      <td>997</td>\n",
       "      <td>7.263059</td>\n",
       "      <td>what is ahp analytic hierarchy process</td>\n",
       "      <td>abbrevations</td>\n",
       "    </tr>\n",
       "    <tr>\n",
       "      <th>57998</th>\n",
       "      <td>59</td>\n",
       "      <td>82476</td>\n",
       "      <td>1998.sigirconf_conference-98.19</td>\n",
       "      <td>998</td>\n",
       "      <td>7.263059</td>\n",
       "      <td>what is ahp analytic hierarchy process</td>\n",
       "      <td>abbrevations</td>\n",
       "    </tr>\n",
       "    <tr>\n",
       "      <th>57999</th>\n",
       "      <td>59</td>\n",
       "      <td>19920</td>\n",
       "      <td>2020.lt4gov-1.4</td>\n",
       "      <td>999</td>\n",
       "      <td>7.248247</td>\n",
       "      <td>what is ahp analytic hierarchy process</td>\n",
       "      <td>abbrevations</td>\n",
       "    </tr>\n",
       "  </tbody>\n",
       "</table>\n",
       "<p>1000 rows × 7 columns</p>\n",
       "</div>"
      ],
      "text/plain": [
       "       qid   docid                                      docno  rank  \\\n",
       "57000   59  124882          2006.ipm_journal-ir0volumeA42A4.0     0   \n",
       "57001   59  114774         2017.ijirr_journal-ir0volumeA7A3.1     1   \n",
       "57002   59  118484       2013.jasis_journal-ir0volumeA64A7.12     2   \n",
       "57003   59   95978               2007.cikm_conference-2007.51     3   \n",
       "57004   59  114140  2018.wwwjournals_journal-ir0volumeA21A1.3     4   \n",
       "...    ...     ...                                        ...   ...   \n",
       "57995   59   38713                                   D17-1123   995   \n",
       "57996   59   58604                                   C90-3076   996   \n",
       "57997   59   81248          2004.sigirconf_conference-2004.62   997   \n",
       "57998   59   82476            1998.sigirconf_conference-98.19   998   \n",
       "57999   59   19920                            2020.lt4gov-1.4   999   \n",
       "\n",
       "           score                                   query        system  \n",
       "57000  27.781898  what is ahp analytic hierarchy process  abbrevations  \n",
       "57001  25.656730  what is ahp analytic hierarchy process  abbrevations  \n",
       "57002  22.011661  what is ahp analytic hierarchy process  abbrevations  \n",
       "57003  19.821424  what is ahp analytic hierarchy process  abbrevations  \n",
       "57004  18.963078  what is ahp analytic hierarchy process  abbrevations  \n",
       "...          ...                                     ...           ...  \n",
       "57995   7.263059  what is ahp analytic hierarchy process  abbrevations  \n",
       "57996   7.263059  what is ahp analytic hierarchy process  abbrevations  \n",
       "57997   7.263059  what is ahp analytic hierarchy process  abbrevations  \n",
       "57998   7.263059  what is ahp analytic hierarchy process  abbrevations  \n",
       "57999   7.248247  what is ahp analytic hierarchy process  abbrevations  \n",
       "\n",
       "[1000 rows x 7 columns]"
      ]
     },
     "execution_count": 21,
     "metadata": {},
     "output_type": "execute_result"
    }
   ],
   "source": [
    "run[57000:58000]"
   ]
  },
  {
   "cell_type": "code",
   "execution_count": 19,
   "metadata": {},
   "outputs": [
    {
     "name": "stdout",
     "output_type": "stream",
     "text": [
      "The run file is normalized outside the TIRA sandbox, I will store it at \"./runs\".\n",
      "Done. run file is stored under \"./runs/run.txt\".\n"
     ]
    }
   ],
   "source": [
    "persist_and_normalize_run(run, system_name='abbrevations', default_output='./runs')"
   ]
  },
  {
   "cell_type": "code",
   "execution_count": 22,
   "metadata": {},
   "outputs": [],
   "source": [
    "run2 = bm25(pt_dataset.get_topics('text'))"
   ]
  },
  {
   "cell_type": "code",
   "execution_count": 23,
   "metadata": {},
   "outputs": [
    {
     "data": {
      "text/html": [
       "<div>\n",
       "<style scoped>\n",
       "    .dataframe tbody tr th:only-of-type {\n",
       "        vertical-align: middle;\n",
       "    }\n",
       "\n",
       "    .dataframe tbody tr th {\n",
       "        vertical-align: top;\n",
       "    }\n",
       "\n",
       "    .dataframe thead th {\n",
       "        text-align: right;\n",
       "    }\n",
       "</style>\n",
       "<table border=\"1\" class=\"dataframe\">\n",
       "  <thead>\n",
       "    <tr style=\"text-align: right;\">\n",
       "      <th></th>\n",
       "      <th>qid</th>\n",
       "      <th>docid</th>\n",
       "      <th>docno</th>\n",
       "      <th>rank</th>\n",
       "      <th>score</th>\n",
       "      <th>query</th>\n",
       "    </tr>\n",
       "  </thead>\n",
       "  <tbody>\n",
       "    <tr>\n",
       "      <th>56279</th>\n",
       "      <td>58</td>\n",
       "      <td>113091</td>\n",
       "      <td>2005.ir_journal-ir0volumeA8A4.1</td>\n",
       "      <td>999</td>\n",
       "      <td>13.112250</td>\n",
       "      <td>architecture of web search engine</td>\n",
       "    </tr>\n",
       "    <tr>\n",
       "      <th>56280</th>\n",
       "      <td>59</td>\n",
       "      <td>124882</td>\n",
       "      <td>2006.ipm_journal-ir0volumeA42A4.0</td>\n",
       "      <td>0</td>\n",
       "      <td>10.066961</td>\n",
       "      <td>what is ahp</td>\n",
       "    </tr>\n",
       "    <tr>\n",
       "      <th>56281</th>\n",
       "      <td>59</td>\n",
       "      <td>114140</td>\n",
       "      <td>2018.wwwjournals_journal-ir0volumeA21A1.3</td>\n",
       "      <td>1</td>\n",
       "      <td>8.997160</td>\n",
       "      <td>what is ahp</td>\n",
       "    </tr>\n",
       "    <tr>\n",
       "      <th>56282</th>\n",
       "      <td>59</td>\n",
       "      <td>126037</td>\n",
       "      <td>2016.ipm_journal-ir0volumeA52A6.8</td>\n",
       "      <td>2</td>\n",
       "      <td>6.783162</td>\n",
       "      <td>what is ahp</td>\n",
       "    </tr>\n",
       "    <tr>\n",
       "      <th>56283</th>\n",
       "      <td>60</td>\n",
       "      <td>84131</td>\n",
       "      <td>2003.sigirconf_conference-2003.73</td>\n",
       "      <td>0</td>\n",
       "      <td>6.025493</td>\n",
       "      <td>what is information retrieval</td>\n",
       "    </tr>\n",
       "  </tbody>\n",
       "</table>\n",
       "</div>"
      ],
      "text/plain": [
       "      qid   docid                                      docno  rank      score  \\\n",
       "56279  58  113091            2005.ir_journal-ir0volumeA8A4.1   999  13.112250   \n",
       "56280  59  124882          2006.ipm_journal-ir0volumeA42A4.0     0  10.066961   \n",
       "56281  59  114140  2018.wwwjournals_journal-ir0volumeA21A1.3     1   8.997160   \n",
       "56282  59  126037          2016.ipm_journal-ir0volumeA52A6.8     2   6.783162   \n",
       "56283  60   84131          2003.sigirconf_conference-2003.73     0   6.025493   \n",
       "\n",
       "                                   query  \n",
       "56279  architecture of web search engine  \n",
       "56280                        what is ahp  \n",
       "56281                        what is ahp  \n",
       "56282                        what is ahp  \n",
       "56283      what is information retrieval  "
      ]
     },
     "execution_count": 23,
     "metadata": {},
     "output_type": "execute_result"
    }
   ],
   "source": [
    "run2[56279:56284]"
   ]
  }
 ],
 "metadata": {
  "kernelspec": {
   "display_name": "Python 3",
   "language": "python",
   "name": "python3"
  },
  "language_info": {
   "codemirror_mode": {
    "name": "ipython",
    "version": 3
   },
   "file_extension": ".py",
   "mimetype": "text/x-python",
   "name": "python",
   "nbconvert_exporter": "python",
   "pygments_lexer": "ipython3",
   "version": "3.10.12"
  }
 },
 "nbformat": 4,
 "nbformat_minor": 2
}
