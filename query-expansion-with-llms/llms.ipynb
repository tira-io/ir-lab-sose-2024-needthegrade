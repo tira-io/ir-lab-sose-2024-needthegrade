{
 "cells": [
  {
   "cell_type": "code",
   "execution_count": 127,
   "metadata": {},
   "outputs": [],
   "source": [
    "#take llm's to interpret abbrevations and expand the query accordingly for better result\n",
    "#advanced: detect if term is medical and then instead of llm's use a dictionary as it is more precise\n",
    "#optionals:\n",
    "    #detect if query is a question query and prompt LLM to answer question, then expand query with keywords\n",
    "    #get query and analyze most important part through LLM, then append that part multiple times to query     "
   ]
  },
  {
   "cell_type": "markdown",
   "metadata": {},
   "source": [
    "# LLM's interprete abbrevations"
   ]
  },
  {
   "cell_type": "code",
   "execution_count": 128,
   "metadata": {},
   "outputs": [],
   "source": [
    "#imports\n",
    "import openai\n",
    "from tira.third_party_integrations import ensure_pyterrier_is_loaded, persist_and_normalize_run\n",
    "from tira.rest_api_client import Client\n",
    "import pyterrier as pt"
   ]
  },
  {
   "cell_type": "code",
   "execution_count": 129,
   "metadata": {},
   "outputs": [],
   "source": [
    "client = openai.OpenAI() #connect to OpenAI API"
   ]
  },
  {
   "cell_type": "code",
   "execution_count": 130,
   "metadata": {},
   "outputs": [],
   "source": [
    "def ask_gpt(prompt, model=\"gpt-4\", temperature=0):\n",
    "    messages = [{\"role\": \"user\", \"content\": prompt}]\n",
    "    response = client.chat.completions.create(\n",
    "        model=model,\n",
    "        messages=messages,\n",
    "        temperature=temperature\n",
    "    )\n",
    "    return response.choices[0].message.content"
   ]
  },
  {
   "cell_type": "code",
   "execution_count": 131,
   "metadata": {},
   "outputs": [],
   "source": [
    "# Create a REST client to the TIRA platform for retrieving the pre-indexed data.\n",
    "ensure_pyterrier_is_loaded()\n",
    "tira = Client()"
   ]
  },
  {
   "cell_type": "code",
   "execution_count": 132,
   "metadata": {},
   "outputs": [],
   "source": [
    "# The dataset: the union of the IR Anthology and the ACL Anthology\n",
    "# This line creates an IRDSDataset object and registers it under the name provided as an argument.\n",
    "pt_dataset = pt.get_dataset('irds:ir-lab-sose-2024/ir-acl-anthology-20240504-training')\n",
    "\n",
    "# A (pre-built) PyTerrier index loaded from TIRA\n",
    "index = tira.pt.index('ir-lab-sose-2024/tira-ir-starter/Index (tira-ir-starter-pyterrier)', pt_dataset)"
   ]
  },
  {
   "cell_type": "markdown",
   "metadata": {},
   "source": [
    "alter query"
   ]
  },
  {
   "cell_type": "code",
   "execution_count": 133,
   "metadata": {},
   "outputs": [],
   "source": [
    "#iterate through each query in pt_dataset.get_topics('query')\n",
    "#for query decide whether this query contains an abbrevation or not\n",
    "#if query contains abbrevation expand the query through writing out the abbrevation"
   ]
  },
  {
   "cell_type": "code",
   "execution_count": 134,
   "metadata": {},
   "outputs": [
    {
     "data": {
      "text/html": [
       "<div>\n",
       "<style scoped>\n",
       "    .dataframe tbody tr th:only-of-type {\n",
       "        vertical-align: middle;\n",
       "    }\n",
       "\n",
       "    .dataframe tbody tr th {\n",
       "        vertical-align: top;\n",
       "    }\n",
       "\n",
       "    .dataframe thead th {\n",
       "        text-align: right;\n",
       "    }\n",
       "</style>\n",
       "<table border=\"1\" class=\"dataframe\">\n",
       "  <thead>\n",
       "    <tr style=\"text-align: right;\">\n",
       "      <th></th>\n",
       "      <th>qid</th>\n",
       "      <th>query</th>\n",
       "    </tr>\n",
       "  </thead>\n",
       "  <tbody>\n",
       "    <tr>\n",
       "      <th>0</th>\n",
       "      <td>1</td>\n",
       "      <td>retrieval system improving effectiveness</td>\n",
       "    </tr>\n",
       "    <tr>\n",
       "      <th>1</th>\n",
       "      <td>2</td>\n",
       "      <td>machine learning language identification</td>\n",
       "    </tr>\n",
       "    <tr>\n",
       "      <th>2</th>\n",
       "      <td>3</td>\n",
       "      <td>social media detect self harm</td>\n",
       "    </tr>\n",
       "    <tr>\n",
       "      <th>3</th>\n",
       "      <td>4</td>\n",
       "      <td>stemming for arabic languages</td>\n",
       "    </tr>\n",
       "    <tr>\n",
       "      <th>4</th>\n",
       "      <td>5</td>\n",
       "      <td>audio based animal recognition</td>\n",
       "    </tr>\n",
       "    <tr>\n",
       "      <th>...</th>\n",
       "      <td>...</td>\n",
       "      <td>...</td>\n",
       "    </tr>\n",
       "    <tr>\n",
       "      <th>63</th>\n",
       "      <td>65</td>\n",
       "      <td>information in different language</td>\n",
       "    </tr>\n",
       "    <tr>\n",
       "      <th>64</th>\n",
       "      <td>66</td>\n",
       "      <td>abbreviations in queries</td>\n",
       "    </tr>\n",
       "    <tr>\n",
       "      <th>65</th>\n",
       "      <td>67</td>\n",
       "      <td>lemmatization algorithms</td>\n",
       "    </tr>\n",
       "    <tr>\n",
       "      <th>66</th>\n",
       "      <td>68</td>\n",
       "      <td>filter ad rich documents</td>\n",
       "    </tr>\n",
       "    <tr>\n",
       "      <th>67</th>\n",
       "      <td>18</td>\n",
       "      <td>advancements in information retrieval</td>\n",
       "    </tr>\n",
       "  </tbody>\n",
       "</table>\n",
       "<p>68 rows × 2 columns</p>\n",
       "</div>"
      ],
      "text/plain": [
       "   qid                                     query\n",
       "0    1  retrieval system improving effectiveness\n",
       "1    2  machine learning language identification\n",
       "2    3             social media detect self harm\n",
       "3    4             stemming for arabic languages\n",
       "4    5            audio based animal recognition\n",
       "..  ..                                       ...\n",
       "63  65         information in different language\n",
       "64  66                  abbreviations in queries\n",
       "65  67                  lemmatization algorithms\n",
       "66  68                  filter ad rich documents\n",
       "67  18     advancements in information retrieval\n",
       "\n",
       "[68 rows x 2 columns]"
      ]
     },
     "execution_count": 134,
     "metadata": {},
     "output_type": "execute_result"
    }
   ],
   "source": [
    "querys = pt_dataset.get_topics('query')\n",
    "querys.head(71)"
   ]
  },
  {
   "cell_type": "code",
   "execution_count": 135,
   "metadata": {},
   "outputs": [
    {
     "name": "stdout",
     "output_type": "stream",
     "text": [
      "retrieval system improving effectiveness\n"
     ]
    }
   ],
   "source": [
    "print(querys['query'][0])"
   ]
  },
  {
   "cell_type": "markdown",
   "metadata": {},
   "source": [
    "determine if query contains abbrevation using gpt"
   ]
  },
  {
   "cell_type": "code",
   "execution_count": 136,
   "metadata": {},
   "outputs": [
    {
     "name": "stdout",
     "output_type": "stream",
     "text": [
      "{'1': False, '2': False, '3': False, '4': False, '5': False, '6': False, '7': False, '8': False, '9': False, '10': False, '11': True, '12': False, '13': False, '14': False, '15': False, '16': False, '17': False, '19': False, '20': False, '21': False, '22': False, '23': False, '24': False, '25': False, '26': False, '27': False, '28': False, '29': False, '30': False, '31': False, '32': False, '33': False, '34': False, '35': False, '36': False, '37': False, '38': False, '39': False, '40': False, '41': False, '42': False, '43': False, '44': False, '45': False, '46': False, '47': False, '48': False, '49': False, '50': False, '51': False, '52': False, '53': False, '54': False, '55': True, '56': False, '57': False, '58': False, '59': True, '60': False, '61': False, '62': False, '63': False, '64': False, '65': False, '66': False, '67': False, '68': False, '18': False}\n"
     ]
    }
   ],
   "source": [
    "answers = dict()\n",
    "for i in range(len(querys)):\n",
    "    determine_abbrevation = f\"\"\" \n",
    "    You are an scientific expert especially in the domain of Information Retrieval. Your task is to detect whether\n",
    "    a given query, which is given as a text below delimited by triple quotes, contains an abbrevation then answer with yes or not then answer with no.\n",
    "    For example given a query 'What is crx' you should answer yes, since cxr is the abbrevation for the medical term\n",
    "    'chest X-Ray'. However if the given query is 'What is Information Retrieval' you should answer no, since there is no\n",
    "    abbrevation in the query.\n",
    "\n",
    "    query: '''{querys['query'][i]}'''\n",
    "    \"\"\"\n",
    "    answer = ask_gpt(prompt=determine_abbrevation) #check answer more carefully perhaps model will return not only {yes,no}\n",
    "    #print(answer)\n",
    "    qid = str(querys['qid'][i])\n",
    "    if \"yes\" in answer.lower().strip():\n",
    "        answers[qid] = True\n",
    "    else:\n",
    "        answers[qid] = False\n",
    "print(answers)"
   ]
  },
  {
   "cell_type": "markdown",
   "metadata": {},
   "source": [
    "Expand query which contains abbrevation"
   ]
  },
  {
   "cell_type": "code",
   "execution_count": 137,
   "metadata": {},
   "outputs": [
    {
     "name": "stdout",
     "output_type": "stream",
     "text": [
      "Old query:  algorithm acceleration with nvidia cuda\n",
      "New query:   compute unified device architecture algorithm acceleration with nvidia cuda \n",
      "Old query:  bm25\n",
      "New query:  okapi bm25 bm25\n",
      "Old query:  what is ahp\n",
      "New query:   analytic hierarchy process what is ahp \n"
     ]
    }
   ],
   "source": [
    "#could be more efficient if in answers text is saved only for qid where abbrevation=yes\n",
    "for key in answers.keys():\n",
    "    if bool(answers[key]):\n",
    "        #find query\n",
    "        for i in range(len(querys)):\n",
    "            if querys['qid'][i] == key:\n",
    "                query= querys['query'][i]\n",
    "                print(\"Old query: \",query)\n",
    "        #ask gpt to expand query\n",
    "        expand = f\"\"\" \n",
    "        You are an scientific expert especially in the domain of Information Retrieval. Your are given a query, which is below\n",
    "        delimited by triple quotes, which contains an abbrevation. Your task is to identify the abbrevation and write it, then\n",
    "        concat the written out abbrevation with the original query and return this new query as string only.\n",
    "        For example given a query 'What is crx' you should detect that the abbrevation is crx, since cxr is the abbrevation for the medical term\n",
    "        'chest X-Ray', then your should concat the abbrevation 'chest X-Ray' with the originial query resulting in a new query 'chest X-Ray What is crx' which\n",
    "        you should return. Another example, given the query 'Algorithms of nlp' you should detect that the abbrevation is nlp, since nlp is the abbrevation\n",
    "        for the term 'natural language processing', then you should concat the abbrevation 'natural language processing' with the original query 'Algorithms of nlp' \n",
    "        resulting in a new query 'natural language processing Algorithms of nlp' which you should return.\n",
    "        Please only answer with the new query.\n",
    "\n",
    "        query: '''{query}'''\n",
    "        \"\"\"\n",
    "        new_query = ask_gpt(prompt=expand).lower().strip().replace(\"'\", \" \").replace('\"', ' ')\n",
    "        print(\"New query: \",new_query)\n",
    "        #overwrite old query\n",
    "        querys['query'][i] = new_query"
   ]
  },
  {
   "cell_type": "code",
   "execution_count": 138,
   "metadata": {},
   "outputs": [
    {
     "name": "stdout",
     "output_type": "stream",
     "text": [
      "0     retrieval system improving effectiveness\n",
      "1     machine learning language identification\n",
      "2                social media detect self harm\n",
      "3                stemming for arabic languages\n",
      "4               audio based animal recognition\n",
      "                        ...                   \n",
      "63           information in different language\n",
      "64                    abbreviations in queries\n",
      "65                    lemmatization algorithms\n",
      "66                    filter ad rich documents\n",
      "67     analytic hierarchy process what is ahp \n",
      "Name: query, Length: 68, dtype: object\n"
     ]
    }
   ],
   "source": [
    "print(querys['query'])"
   ]
  },
  {
   "cell_type": "code",
   "execution_count": 139,
   "metadata": {},
   "outputs": [],
   "source": [
    "bm25 = pt.BatchRetrieve(index, wmodel=\"BM25\")"
   ]
  },
  {
   "cell_type": "code",
   "execution_count": 140,
   "metadata": {},
   "outputs": [
    {
     "name": "stdout",
     "output_type": "stream",
     "text": [
      "Now we do the retrieval...\n"
     ]
    },
    {
     "name": "stdout",
     "output_type": "stream",
     "text": [
      "Done. Here are the first 10 entries of the run\n"
     ]
    },
    {
     "data": {
      "text/html": [
       "<div>\n",
       "<style scoped>\n",
       "    .dataframe tbody tr th:only-of-type {\n",
       "        vertical-align: middle;\n",
       "    }\n",
       "\n",
       "    .dataframe tbody tr th {\n",
       "        vertical-align: top;\n",
       "    }\n",
       "\n",
       "    .dataframe thead th {\n",
       "        text-align: right;\n",
       "    }\n",
       "</style>\n",
       "<table border=\"1\" class=\"dataframe\">\n",
       "  <thead>\n",
       "    <tr style=\"text-align: right;\">\n",
       "      <th></th>\n",
       "      <th>qid</th>\n",
       "      <th>docid</th>\n",
       "      <th>docno</th>\n",
       "      <th>rank</th>\n",
       "      <th>score</th>\n",
       "      <th>query</th>\n",
       "    </tr>\n",
       "  </thead>\n",
       "  <tbody>\n",
       "    <tr>\n",
       "      <th>0</th>\n",
       "      <td>1</td>\n",
       "      <td>94858</td>\n",
       "      <td>2004.cikm_conference-2004.47</td>\n",
       "      <td>0</td>\n",
       "      <td>15.681777</td>\n",
       "      <td>retrieval system improving effectiveness</td>\n",
       "    </tr>\n",
       "    <tr>\n",
       "      <th>1</th>\n",
       "      <td>1</td>\n",
       "      <td>125137</td>\n",
       "      <td>1989.ipm_journal-ir0volumeA25A4.2</td>\n",
       "      <td>1</td>\n",
       "      <td>15.047380</td>\n",
       "      <td>retrieval system improving effectiveness</td>\n",
       "    </tr>\n",
       "    <tr>\n",
       "      <th>2</th>\n",
       "      <td>1</td>\n",
       "      <td>125817</td>\n",
       "      <td>2005.ipm_journal-ir0volumeA41A5.11</td>\n",
       "      <td>2</td>\n",
       "      <td>14.144223</td>\n",
       "      <td>retrieval system improving effectiveness</td>\n",
       "    </tr>\n",
       "    <tr>\n",
       "      <th>3</th>\n",
       "      <td>1</td>\n",
       "      <td>5868</td>\n",
       "      <td>W05-0704</td>\n",
       "      <td>3</td>\n",
       "      <td>14.025748</td>\n",
       "      <td>retrieval system improving effectiveness</td>\n",
       "    </tr>\n",
       "    <tr>\n",
       "      <th>4</th>\n",
       "      <td>1</td>\n",
       "      <td>84876</td>\n",
       "      <td>2016.ntcir_conference-2016.90</td>\n",
       "      <td>4</td>\n",
       "      <td>13.947994</td>\n",
       "      <td>retrieval system improving effectiveness</td>\n",
       "    </tr>\n",
       "    <tr>\n",
       "      <th>5</th>\n",
       "      <td>1</td>\n",
       "      <td>82472</td>\n",
       "      <td>1998.sigirconf_conference-98.15</td>\n",
       "      <td>5</td>\n",
       "      <td>13.901647</td>\n",
       "      <td>retrieval system improving effectiveness</td>\n",
       "    </tr>\n",
       "    <tr>\n",
       "      <th>6</th>\n",
       "      <td>1</td>\n",
       "      <td>94415</td>\n",
       "      <td>2008.cikm_conference-2008.183</td>\n",
       "      <td>6</td>\n",
       "      <td>13.808208</td>\n",
       "      <td>retrieval system improving effectiveness</td>\n",
       "    </tr>\n",
       "    <tr>\n",
       "      <th>7</th>\n",
       "      <td>1</td>\n",
       "      <td>17496</td>\n",
       "      <td>O01-2005</td>\n",
       "      <td>7</td>\n",
       "      <td>13.749449</td>\n",
       "      <td>retrieval system improving effectiveness</td>\n",
       "    </tr>\n",
       "    <tr>\n",
       "      <th>8</th>\n",
       "      <td>1</td>\n",
       "      <td>82490</td>\n",
       "      <td>1998.sigirconf_conference-98.33</td>\n",
       "      <td>8</td>\n",
       "      <td>13.735541</td>\n",
       "      <td>retrieval system improving effectiveness</td>\n",
       "    </tr>\n",
       "    <tr>\n",
       "      <th>9</th>\n",
       "      <td>1</td>\n",
       "      <td>124801</td>\n",
       "      <td>2006.ipm_journal-ir0volumeA42A3.2</td>\n",
       "      <td>9</td>\n",
       "      <td>13.569263</td>\n",
       "      <td>retrieval system improving effectiveness</td>\n",
       "    </tr>\n",
       "  </tbody>\n",
       "</table>\n",
       "</div>"
      ],
      "text/plain": [
       "  qid   docid                               docno  rank      score  \\\n",
       "0   1   94858        2004.cikm_conference-2004.47     0  15.681777   \n",
       "1   1  125137   1989.ipm_journal-ir0volumeA25A4.2     1  15.047380   \n",
       "2   1  125817  2005.ipm_journal-ir0volumeA41A5.11     2  14.144223   \n",
       "3   1    5868                            W05-0704     3  14.025748   \n",
       "4   1   84876       2016.ntcir_conference-2016.90     4  13.947994   \n",
       "5   1   82472     1998.sigirconf_conference-98.15     5  13.901647   \n",
       "6   1   94415       2008.cikm_conference-2008.183     6  13.808208   \n",
       "7   1   17496                            O01-2005     7  13.749449   \n",
       "8   1   82490     1998.sigirconf_conference-98.33     8  13.735541   \n",
       "9   1  124801   2006.ipm_journal-ir0volumeA42A3.2     9  13.569263   \n",
       "\n",
       "                                      query  \n",
       "0  retrieval system improving effectiveness  \n",
       "1  retrieval system improving effectiveness  \n",
       "2  retrieval system improving effectiveness  \n",
       "3  retrieval system improving effectiveness  \n",
       "4  retrieval system improving effectiveness  \n",
       "5  retrieval system improving effectiveness  \n",
       "6  retrieval system improving effectiveness  \n",
       "7  retrieval system improving effectiveness  \n",
       "8  retrieval system improving effectiveness  \n",
       "9  retrieval system improving effectiveness  "
      ]
     },
     "execution_count": 140,
     "metadata": {},
     "output_type": "execute_result"
    }
   ],
   "source": [
    "print('Now we do the retrieval...')\n",
    "run = bm25(querys)\n",
    "\n",
    "print('Done. Here are the first 10 entries of the run')\n",
    "run.head(10)"
   ]
  },
  {
   "cell_type": "code",
   "execution_count": 141,
   "metadata": {},
   "outputs": [
    {
     "data": {
      "text/html": [
       "<div>\n",
       "<style scoped>\n",
       "    .dataframe tbody tr th:only-of-type {\n",
       "        vertical-align: middle;\n",
       "    }\n",
       "\n",
       "    .dataframe tbody tr th {\n",
       "        vertical-align: top;\n",
       "    }\n",
       "\n",
       "    .dataframe thead th {\n",
       "        text-align: right;\n",
       "    }\n",
       "</style>\n",
       "<table border=\"1\" class=\"dataframe\">\n",
       "  <thead>\n",
       "    <tr style=\"text-align: right;\">\n",
       "      <th></th>\n",
       "      <th>qid</th>\n",
       "      <th>docid</th>\n",
       "      <th>docno</th>\n",
       "      <th>rank</th>\n",
       "      <th>score</th>\n",
       "      <th>query</th>\n",
       "    </tr>\n",
       "  </thead>\n",
       "  <tbody>\n",
       "    <tr>\n",
       "      <th>65283</th>\n",
       "      <td>18</td>\n",
       "      <td>124882</td>\n",
       "      <td>2006.ipm_journal-ir0volumeA42A4.0</td>\n",
       "      <td>0</td>\n",
       "      <td>27.781898</td>\n",
       "      <td>analytic hierarchy process what is ahp</td>\n",
       "    </tr>\n",
       "    <tr>\n",
       "      <th>65284</th>\n",
       "      <td>18</td>\n",
       "      <td>114774</td>\n",
       "      <td>2017.ijirr_journal-ir0volumeA7A3.1</td>\n",
       "      <td>1</td>\n",
       "      <td>25.656730</td>\n",
       "      <td>analytic hierarchy process what is ahp</td>\n",
       "    </tr>\n",
       "    <tr>\n",
       "      <th>65285</th>\n",
       "      <td>18</td>\n",
       "      <td>118484</td>\n",
       "      <td>2013.jasis_journal-ir0volumeA64A7.12</td>\n",
       "      <td>2</td>\n",
       "      <td>22.011661</td>\n",
       "      <td>analytic hierarchy process what is ahp</td>\n",
       "    </tr>\n",
       "    <tr>\n",
       "      <th>65286</th>\n",
       "      <td>18</td>\n",
       "      <td>95978</td>\n",
       "      <td>2007.cikm_conference-2007.51</td>\n",
       "      <td>3</td>\n",
       "      <td>19.821424</td>\n",
       "      <td>analytic hierarchy process what is ahp</td>\n",
       "    </tr>\n",
       "    <tr>\n",
       "      <th>65287</th>\n",
       "      <td>18</td>\n",
       "      <td>114140</td>\n",
       "      <td>2018.wwwjournals_journal-ir0volumeA21A1.3</td>\n",
       "      <td>4</td>\n",
       "      <td>18.963078</td>\n",
       "      <td>analytic hierarchy process what is ahp</td>\n",
       "    </tr>\n",
       "    <tr>\n",
       "      <th>...</th>\n",
       "      <td>...</td>\n",
       "      <td>...</td>\n",
       "      <td>...</td>\n",
       "      <td>...</td>\n",
       "      <td>...</td>\n",
       "      <td>...</td>\n",
       "    </tr>\n",
       "    <tr>\n",
       "      <th>66278</th>\n",
       "      <td>18</td>\n",
       "      <td>38713</td>\n",
       "      <td>D17-1123</td>\n",
       "      <td>995</td>\n",
       "      <td>7.263059</td>\n",
       "      <td>analytic hierarchy process what is ahp</td>\n",
       "    </tr>\n",
       "    <tr>\n",
       "      <th>66279</th>\n",
       "      <td>18</td>\n",
       "      <td>58604</td>\n",
       "      <td>C90-3076</td>\n",
       "      <td>996</td>\n",
       "      <td>7.263059</td>\n",
       "      <td>analytic hierarchy process what is ahp</td>\n",
       "    </tr>\n",
       "    <tr>\n",
       "      <th>66280</th>\n",
       "      <td>18</td>\n",
       "      <td>81248</td>\n",
       "      <td>2004.sigirconf_conference-2004.62</td>\n",
       "      <td>997</td>\n",
       "      <td>7.263059</td>\n",
       "      <td>analytic hierarchy process what is ahp</td>\n",
       "    </tr>\n",
       "    <tr>\n",
       "      <th>66281</th>\n",
       "      <td>18</td>\n",
       "      <td>82476</td>\n",
       "      <td>1998.sigirconf_conference-98.19</td>\n",
       "      <td>998</td>\n",
       "      <td>7.263059</td>\n",
       "      <td>analytic hierarchy process what is ahp</td>\n",
       "    </tr>\n",
       "    <tr>\n",
       "      <th>66282</th>\n",
       "      <td>18</td>\n",
       "      <td>19920</td>\n",
       "      <td>2020.lt4gov-1.4</td>\n",
       "      <td>999</td>\n",
       "      <td>7.248247</td>\n",
       "      <td>analytic hierarchy process what is ahp</td>\n",
       "    </tr>\n",
       "  </tbody>\n",
       "</table>\n",
       "<p>1000 rows × 6 columns</p>\n",
       "</div>"
      ],
      "text/plain": [
       "      qid   docid                                      docno  rank      score  \\\n",
       "65283  18  124882          2006.ipm_journal-ir0volumeA42A4.0     0  27.781898   \n",
       "65284  18  114774         2017.ijirr_journal-ir0volumeA7A3.1     1  25.656730   \n",
       "65285  18  118484       2013.jasis_journal-ir0volumeA64A7.12     2  22.011661   \n",
       "65286  18   95978               2007.cikm_conference-2007.51     3  19.821424   \n",
       "65287  18  114140  2018.wwwjournals_journal-ir0volumeA21A1.3     4  18.963078   \n",
       "...    ..     ...                                        ...   ...        ...   \n",
       "66278  18   38713                                   D17-1123   995   7.263059   \n",
       "66279  18   58604                                   C90-3076   996   7.263059   \n",
       "66280  18   81248          2004.sigirconf_conference-2004.62   997   7.263059   \n",
       "66281  18   82476            1998.sigirconf_conference-98.19   998   7.263059   \n",
       "66282  18   19920                            2020.lt4gov-1.4   999   7.248247   \n",
       "\n",
       "                                          query  \n",
       "65283   analytic hierarchy process what is ahp   \n",
       "65284   analytic hierarchy process what is ahp   \n",
       "65285   analytic hierarchy process what is ahp   \n",
       "65286   analytic hierarchy process what is ahp   \n",
       "65287   analytic hierarchy process what is ahp   \n",
       "...                                         ...  \n",
       "66278   analytic hierarchy process what is ahp   \n",
       "66279   analytic hierarchy process what is ahp   \n",
       "66280   analytic hierarchy process what is ahp   \n",
       "66281   analytic hierarchy process what is ahp   \n",
       "66282   analytic hierarchy process what is ahp   \n",
       "\n",
       "[1000 rows x 6 columns]"
      ]
     },
     "execution_count": 141,
     "metadata": {},
     "output_type": "execute_result"
    }
   ],
   "source": [
    "run[65283:66283] #for query what is ahp the retrieval systems now finds 1000 docs, as before it found 3: illustrated below"
   ]
  },
  {
   "cell_type": "markdown",
   "metadata": {},
   "source": [
    "bm25:"
   ]
  },
  {
   "cell_type": "code",
   "execution_count": 145,
   "metadata": {},
   "outputs": [],
   "source": [
    "run2 = bm25(pt_dataset.get_topics('text'))"
   ]
  },
  {
   "cell_type": "code",
   "execution_count": 146,
   "metadata": {},
   "outputs": [
    {
     "data": {
      "text/html": [
       "<div>\n",
       "<style scoped>\n",
       "    .dataframe tbody tr th:only-of-type {\n",
       "        vertical-align: middle;\n",
       "    }\n",
       "\n",
       "    .dataframe tbody tr th {\n",
       "        vertical-align: top;\n",
       "    }\n",
       "\n",
       "    .dataframe thead th {\n",
       "        text-align: right;\n",
       "    }\n",
       "</style>\n",
       "<table border=\"1\" class=\"dataframe\">\n",
       "  <thead>\n",
       "    <tr style=\"text-align: right;\">\n",
       "      <th></th>\n",
       "      <th>qid</th>\n",
       "      <th>docid</th>\n",
       "      <th>docno</th>\n",
       "      <th>rank</th>\n",
       "      <th>score</th>\n",
       "      <th>query</th>\n",
       "    </tr>\n",
       "  </thead>\n",
       "  <tbody>\n",
       "    <tr>\n",
       "      <th>56279</th>\n",
       "      <td>58</td>\n",
       "      <td>113091</td>\n",
       "      <td>2005.ir_journal-ir0volumeA8A4.1</td>\n",
       "      <td>999</td>\n",
       "      <td>13.112250</td>\n",
       "      <td>architecture of web search engine</td>\n",
       "    </tr>\n",
       "    <tr>\n",
       "      <th>56280</th>\n",
       "      <td>59</td>\n",
       "      <td>124882</td>\n",
       "      <td>2006.ipm_journal-ir0volumeA42A4.0</td>\n",
       "      <td>0</td>\n",
       "      <td>10.066961</td>\n",
       "      <td>what is ahp</td>\n",
       "    </tr>\n",
       "    <tr>\n",
       "      <th>56281</th>\n",
       "      <td>59</td>\n",
       "      <td>114140</td>\n",
       "      <td>2018.wwwjournals_journal-ir0volumeA21A1.3</td>\n",
       "      <td>1</td>\n",
       "      <td>8.997160</td>\n",
       "      <td>what is ahp</td>\n",
       "    </tr>\n",
       "    <tr>\n",
       "      <th>56282</th>\n",
       "      <td>59</td>\n",
       "      <td>126037</td>\n",
       "      <td>2016.ipm_journal-ir0volumeA52A6.8</td>\n",
       "      <td>2</td>\n",
       "      <td>6.783162</td>\n",
       "      <td>what is ahp</td>\n",
       "    </tr>\n",
       "    <tr>\n",
       "      <th>56283</th>\n",
       "      <td>60</td>\n",
       "      <td>84131</td>\n",
       "      <td>2003.sigirconf_conference-2003.73</td>\n",
       "      <td>0</td>\n",
       "      <td>6.025493</td>\n",
       "      <td>what is information retrieval</td>\n",
       "    </tr>\n",
       "  </tbody>\n",
       "</table>\n",
       "</div>"
      ],
      "text/plain": [
       "      qid   docid                                      docno  rank      score  \\\n",
       "56279  58  113091            2005.ir_journal-ir0volumeA8A4.1   999  13.112250   \n",
       "56280  59  124882          2006.ipm_journal-ir0volumeA42A4.0     0  10.066961   \n",
       "56281  59  114140  2018.wwwjournals_journal-ir0volumeA21A1.3     1   8.997160   \n",
       "56282  59  126037          2016.ipm_journal-ir0volumeA52A6.8     2   6.783162   \n",
       "56283  60   84131          2003.sigirconf_conference-2003.73     0   6.025493   \n",
       "\n",
       "                                   query  \n",
       "56279  architecture of web search engine  \n",
       "56280                        what is ahp  \n",
       "56281                        what is ahp  \n",
       "56282                        what is ahp  \n",
       "56283      what is information retrieval  "
      ]
     },
     "execution_count": 146,
     "metadata": {},
     "output_type": "execute_result"
    }
   ],
   "source": [
    "run2[56279:56284] #query only finds 3 docs"
   ]
  },
  {
   "cell_type": "markdown",
   "metadata": {},
   "source": [
    "runs"
   ]
  },
  {
   "cell_type": "code",
   "execution_count": 144,
   "metadata": {},
   "outputs": [
    {
     "name": "stdout",
     "output_type": "stream",
     "text": [
      "The run file is normalized outside the TIRA sandbox, I will store it at \"../runs\".\n",
      "Done. run file is stored under \"../runs/run.txt\".\n"
     ]
    }
   ],
   "source": [
    "persist_and_normalize_run(run, system_name='llm-expansion', default_output='../runs') #new llm expansion\n",
    "#persist_and_normalize_run(run2, system_name='bm25-baseline', default_output='../runs') #bm25 unmodified"
   ]
  }
 ],
 "metadata": {
  "kernelspec": {
   "display_name": "Python 3",
   "language": "python",
   "name": "python3"
  },
  "language_info": {
   "codemirror_mode": {
    "name": "ipython",
    "version": 3
   },
   "file_extension": ".py",
   "mimetype": "text/x-python",
   "name": "python",
   "nbconvert_exporter": "python",
   "pygments_lexer": "ipython3",
   "version": "3.10.12"
  }
 },
 "nbformat": 4,
 "nbformat_minor": 2
}
