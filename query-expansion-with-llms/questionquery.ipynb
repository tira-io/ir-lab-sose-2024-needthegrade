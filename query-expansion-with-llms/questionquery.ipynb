{
 "cells": [
  {
   "cell_type": "code",
   "execution_count": 1,
   "metadata": {},
   "outputs": [],
   "source": [
    "#identify which querys are question querys\n",
    "#delete them from the list but keep information\n",
    "#rank the querys with bm25\n",
    "#rank the question queries seperately:\n",
    "    #gpt generates sub querys\n",
    "    #bm25.search() for each sub query\n",
    "    #aggregate score\n",
    "    #update original query score\n",
    "\n",
    "#always keep track of information qid, docid, docno etc. "
   ]
  },
  {
   "cell_type": "code",
   "execution_count": 2,
   "metadata": {},
   "outputs": [],
   "source": [
    "#imports\n",
    "import openai\n",
    "from tira.third_party_integrations import ensure_pyterrier_is_loaded, persist_and_normalize_run\n",
    "from tira.rest_api_client import Client\n",
    "import pyterrier as pt"
   ]
  },
  {
   "cell_type": "code",
   "execution_count": 3,
   "metadata": {},
   "outputs": [],
   "source": [
    "client = openai.OpenAI() #connect to OpenAI API"
   ]
  },
  {
   "cell_type": "code",
   "execution_count": 4,
   "metadata": {},
   "outputs": [],
   "source": [
    "def ask_gpt(prompt, model=\"gpt-4\", temperature=0):\n",
    "    messages = [{\"role\": \"user\", \"content\": prompt}]\n",
    "    response = client.chat.completions.create(\n",
    "        model=model,\n",
    "        messages=messages,\n",
    "        temperature=temperature\n",
    "    )\n",
    "    return response.choices[0].message.content"
   ]
  },
  {
   "cell_type": "code",
   "execution_count": 5,
   "metadata": {},
   "outputs": [
    {
     "name": "stderr",
     "output_type": "stream",
     "text": [
      "PyTerrier 0.10.0 has loaded Terrier 5.8 (built by craigm on 2023-11-01 18:05) and terrier-helper 0.0.8\n",
      "\n",
      "No etc/terrier.properties, using terrier.default.properties for bootstrap configuration.\n"
     ]
    }
   ],
   "source": [
    "# Create a REST client to the TIRA platform for retrieving the pre-indexed data.\n",
    "ensure_pyterrier_is_loaded()\n",
    "tira = Client()"
   ]
  },
  {
   "cell_type": "code",
   "execution_count": 13,
   "metadata": {},
   "outputs": [],
   "source": [
    "# The dataset: the union of the IR Anthology and the ACL Anthology\n",
    "# This line creates an IRDSDataset object and registers it under the name provided as an argument.\n",
    "pt_dataset = pt.get_dataset('irds:ir-lab-sose-2024/ir-acl-anthology-20240504-training')\n",
    "\n",
    "# A (pre-built) PyTerrier index loaded from TIRA\n",
    "index = tira.pt.index('ir-lab-sose-2024/tira-ir-starter/Index (tira-ir-starter-pyterrier)', pt_dataset)"
   ]
  },
  {
   "cell_type": "code",
   "execution_count": 7,
   "metadata": {},
   "outputs": [],
   "source": [
    "querys = pt_dataset.get_topics('query')"
   ]
  },
  {
   "cell_type": "markdown",
   "metadata": {},
   "source": [
    "## Identify question queries"
   ]
  },
  {
   "cell_type": "code",
   "execution_count": 8,
   "metadata": {},
   "outputs": [
    {
     "name": "stdout",
     "output_type": "stream",
     "text": [
      "['56', '59', '60']\n"
     ]
    }
   ],
   "source": [
    "#gpt goes through each query, question querys qid will be stored in answers (list)\n",
    "answers = list()\n",
    "for i in range(len(querys)):\n",
    "    determine_abbrevation = f\"\"\" \n",
    "    You are an scientific expert especially in the domain of Information Retrieval. Your task is to detect whether\n",
    "    a given query, which is given as a text below delimited by triple quotes, is a question. You can detect whether a query\n",
    "    is a question if it contains question words like 'What' or 'Why'.\n",
    "    For example given a query 'What is crx' you should answer yes, since the query contains 'What' which is a \n",
    "    question word. However if the given query is 'Information Retrieval' you should answer no, since there is no\n",
    "    question word in the query.\n",
    "\n",
    "    query: '''{querys['query'][i]}'''\n",
    "    \"\"\"\n",
    "    answer = ask_gpt(prompt=determine_abbrevation) #check answer more carefully perhaps model will return not only {yes,no}\n",
    "    #print(answer)\n",
    "    qid = str(querys['qid'][i])\n",
    "    if \"yes\" in answer.lower().strip():\n",
    "        answers.append(qid)\n",
    "print(answers)"
   ]
  },
  {
   "cell_type": "markdown",
   "metadata": {},
   "source": [
    "### Cut question queries out of dataframe"
   ]
  },
  {
   "cell_type": "code",
   "execution_count": 9,
   "metadata": {},
   "outputs": [
    {
     "name": "stdout",
     "output_type": "stream",
     "text": [
      "56\n",
      "59\n",
      "60\n"
     ]
    }
   ],
   "source": [
    "for i in range(len(querys)):\n",
    "    if querys['qid'][i] in answers:\n",
    "        print(querys['qid'][i])\n",
    "        index = querys[querys['qid'] == querys['qid'][i]].index\n",
    "        querys = querys.drop(index)"
   ]
  },
  {
   "cell_type": "code",
   "execution_count": 10,
   "metadata": {},
   "outputs": [
    {
     "data": {
      "text/html": [
       "<div>\n",
       "<style scoped>\n",
       "    .dataframe tbody tr th:only-of-type {\n",
       "        vertical-align: middle;\n",
       "    }\n",
       "\n",
       "    .dataframe tbody tr th {\n",
       "        vertical-align: top;\n",
       "    }\n",
       "\n",
       "    .dataframe thead th {\n",
       "        text-align: right;\n",
       "    }\n",
       "</style>\n",
       "<table border=\"1\" class=\"dataframe\">\n",
       "  <thead>\n",
       "    <tr style=\"text-align: right;\">\n",
       "      <th></th>\n",
       "      <th>qid</th>\n",
       "      <th>query</th>\n",
       "    </tr>\n",
       "  </thead>\n",
       "  <tbody>\n",
       "    <tr>\n",
       "      <th>53</th>\n",
       "      <td>55</td>\n",
       "      <td>bm25</td>\n",
       "    </tr>\n",
       "    <tr>\n",
       "      <th>55</th>\n",
       "      <td>57</td>\n",
       "      <td>principle of a information retrieval indexing</td>\n",
       "    </tr>\n",
       "    <tr>\n",
       "      <th>56</th>\n",
       "      <td>58</td>\n",
       "      <td>architecture of web search engine</td>\n",
       "    </tr>\n",
       "    <tr>\n",
       "      <th>59</th>\n",
       "      <td>61</td>\n",
       "      <td>efficient retrieval algorithms</td>\n",
       "    </tr>\n",
       "  </tbody>\n",
       "</table>\n",
       "</div>"
      ],
      "text/plain": [
       "   qid                                          query\n",
       "53  55                                           bm25\n",
       "55  57  principle of a information retrieval indexing\n",
       "56  58              architecture of web search engine\n",
       "59  61                 efficient retrieval algorithms"
      ]
     },
     "execution_count": 10,
     "metadata": {},
     "output_type": "execute_result"
    }
   ],
   "source": [
    "#illustrate querys have been deleted\n",
    "querys[53:57]"
   ]
  },
  {
   "cell_type": "markdown",
   "metadata": {},
   "source": [
    "rank queries with bm25"
   ]
  },
  {
   "cell_type": "code",
   "execution_count": 16,
   "metadata": {},
   "outputs": [],
   "source": [
    "bm25 = pt.BatchRetrieve(index, wmodel=\"BM25\")"
   ]
  },
  {
   "cell_type": "code",
   "execution_count": 17,
   "metadata": {},
   "outputs": [
    {
     "data": {
      "text/html": [
       "<div>\n",
       "<style scoped>\n",
       "    .dataframe tbody tr th:only-of-type {\n",
       "        vertical-align: middle;\n",
       "    }\n",
       "\n",
       "    .dataframe tbody tr th {\n",
       "        vertical-align: top;\n",
       "    }\n",
       "\n",
       "    .dataframe thead th {\n",
       "        text-align: right;\n",
       "    }\n",
       "</style>\n",
       "<table border=\"1\" class=\"dataframe\">\n",
       "  <thead>\n",
       "    <tr style=\"text-align: right;\">\n",
       "      <th></th>\n",
       "      <th>qid</th>\n",
       "      <th>docid</th>\n",
       "      <th>docno</th>\n",
       "      <th>rank</th>\n",
       "      <th>score</th>\n",
       "      <th>query</th>\n",
       "    </tr>\n",
       "  </thead>\n",
       "  <tbody>\n",
       "    <tr>\n",
       "      <th>0</th>\n",
       "      <td>1</td>\n",
       "      <td>94858</td>\n",
       "      <td>2004.cikm_conference-2004.47</td>\n",
       "      <td>0</td>\n",
       "      <td>15.681777</td>\n",
       "      <td>retrieval system improving effectiveness</td>\n",
       "    </tr>\n",
       "    <tr>\n",
       "      <th>1</th>\n",
       "      <td>1</td>\n",
       "      <td>125137</td>\n",
       "      <td>1989.ipm_journal-ir0volumeA25A4.2</td>\n",
       "      <td>1</td>\n",
       "      <td>15.047380</td>\n",
       "      <td>retrieval system improving effectiveness</td>\n",
       "    </tr>\n",
       "    <tr>\n",
       "      <th>2</th>\n",
       "      <td>1</td>\n",
       "      <td>125817</td>\n",
       "      <td>2005.ipm_journal-ir0volumeA41A5.11</td>\n",
       "      <td>2</td>\n",
       "      <td>14.144223</td>\n",
       "      <td>retrieval system improving effectiveness</td>\n",
       "    </tr>\n",
       "  </tbody>\n",
       "</table>\n",
       "</div>"
      ],
      "text/plain": [
       "  qid   docid                               docno  rank      score  \\\n",
       "0   1   94858        2004.cikm_conference-2004.47     0  15.681777   \n",
       "1   1  125137   1989.ipm_journal-ir0volumeA25A4.2     1  15.047380   \n",
       "2   1  125817  2005.ipm_journal-ir0volumeA41A5.11     2  14.144223   \n",
       "\n",
       "                                      query  \n",
       "0  retrieval system improving effectiveness  \n",
       "1  retrieval system improving effectiveness  \n",
       "2  retrieval system improving effectiveness  "
      ]
     },
     "execution_count": 17,
     "metadata": {},
     "output_type": "execute_result"
    }
   ],
   "source": [
    "#create first ranking, will later 'merge' with run2 which contains ranked question querys \n",
    "run1 = bm25(querys)\n",
    "run1.head(3)"
   ]
  },
  {
   "cell_type": "markdown",
   "metadata": {},
   "source": [
    "## rank question queries seperately"
   ]
  },
  {
   "cell_type": "code",
   "execution_count": 18,
   "metadata": {},
   "outputs": [],
   "source": [
    "#reset querys since now we need to find the previous deleted querys\n",
    "querys = pt_dataset.get_topics('query')"
   ]
  },
  {
   "cell_type": "code",
   "execution_count": 30,
   "metadata": {},
   "outputs": [
    {
     "name": "stdout",
     "output_type": "stream",
     "text": [
      "Old query:  what makes natural language processing natural\n",
      "New query:   fundamentals of natural language processing$ \n",
      " understanding natural language processing$ \n",
      " concepts behind natural language processing$ \n",
      " principles of natural language processing$ \n",
      " introduction to natural language processing$ \n",
      "Old query:  what is ahp\n",
      "New query:   introduction to ahp$ \n",
      " overview of ahp$ \n",
      " basic concepts of ahp$ \n",
      " understanding ahp$ \n",
      " principles of ahp$ \n",
      "Old query:  what is information retrieval\n",
      "New query:   introduction to information retrieval$ \n",
      " overview of information retrieval$ \n",
      " basic concepts of information retrieval$ \n",
      " principles of information retrieval$ \n",
      " understanding information retrieval$ \n"
     ]
    }
   ],
   "source": [
    "#todo: save all infos in dataframe of query? or do I need to do that when ranking is done?\n",
    "questions = list()\n",
    "for qid in answers:\n",
    "    for i in range(len(querys)):\n",
    "        if querys['qid'][i] == qid:\n",
    "            query= querys['query'][i]\n",
    "            print(\"Old query: \",query)\n",
    "            #ask gpt to expand query\n",
    "            expand = f\"\"\" \n",
    "            You are an expert in Information Retrieval.  I am building an retrieval System specificially for the scientific domain, just like Google Scholar I want to find scientific papers for a query,. I want to improve the precision of my retrieval system by expanding specific question querys. Please understand that the information need behind a question query is much different than for a keyword query. For example the intent behind a question query like \"What is Deep Learning\" much more likely is to find papers that focus on an introduction to deep learning and explains core concepts. Meanwhile the intent behind the keyword query \"Deep Learning\" is find any papers that focus on deep learning.\n",
    "            Your task is to semanticly interpret a question query, which is below delimited by triple quotes, and return three to six expanded queries so I can gather the score for each query and then aggregate over the scores to calculate a final score. Here are some examples:\n",
    "            For the question query 'What is deep learning' the intent is to find papers that introduce and explain deep learning. At the end of each query please add a '$'.\n",
    "            Therefore expanded querys could be:\n",
    "            'Introduction to deep Learning$'\n",
    "            'Overview of deep Learning$'\n",
    "            'basic concepts of deep learning$'\n",
    "            For the question query 'Why use boolean retrieval model' the inent is to find papers that gve insights to reasons to apply the boolean retrieval model. Therefore expanded querys could be:\n",
    "            'Reasons to use boolean retrieval model$'\n",
    "            'Introduction to boolean retrieval model$'\n",
    "\n",
    "            query: '''{query}'''\n",
    "            \"\"\"\n",
    "            new_query = ask_gpt(prompt=expand).lower().strip().replace(\"'\", \" \").replace('\"', ' ')\n",
    "            print(\"New query: \",new_query)\n",
    "            questions.append({'qid':qid,'query': query,'subqueries': new_query})"
   ]
  },
  {
   "cell_type": "code",
   "execution_count": 31,
   "metadata": {},
   "outputs": [
    {
     "name": "stdout",
     "output_type": "stream",
     "text": [
      "[{'qid': '56', 'query': 'what makes natural language processing natural', 'subqueries': ' fundamentals of natural language processing$ \\n understanding natural language processing$ \\n concepts behind natural language processing$ \\n principles of natural language processing$ \\n introduction to natural language processing$ '}, {'qid': '59', 'query': 'what is ahp', 'subqueries': ' introduction to ahp$ \\n overview of ahp$ \\n basic concepts of ahp$ \\n understanding ahp$ \\n principles of ahp$ '}, {'qid': '60', 'query': 'what is information retrieval', 'subqueries': ' introduction to information retrieval$ \\n overview of information retrieval$ \\n basic concepts of information retrieval$ \\n principles of information retrieval$ \\n understanding information retrieval$ '}]\n"
     ]
    }
   ],
   "source": [
    "print(questions)"
   ]
  },
  {
   "cell_type": "code",
   "execution_count": 34,
   "metadata": {},
   "outputs": [],
   "source": [
    "#temporary\n",
    "questions = [{'qid': '56', 'query': 'what makes natural language processing natural', 'subqueries': ' fundamentals of natural language processing$ \\n understanding natural language processing$ \\n concepts behind natural language processing$ \\n principles of natural language processing$ \\n introduction to natural language processing$ '}, {'qid': '59', 'query': 'what is ahp', 'subqueries': ' introduction to ahp$ \\n overview of ahp$ \\n basic concepts of ahp$ \\n understanding ahp$ \\n principles of ahp$ '}, {'qid': '60', 'query': 'what is information retrieval', 'subqueries': ' introduction to information retrieval$ \\n overview of information retrieval$ \\n basic concepts of information retrieval$ \\n principles of information retrieval$ \\n understanding information retrieval$ '}]"
   ]
  },
  {
   "cell_type": "code",
   "execution_count": 35,
   "metadata": {},
   "outputs": [
    {
     "name": "stdout",
     "output_type": "stream",
     "text": [
      "[{'qid': '56', 'query': 'what makes natural language processing natural', 'subqueries': [' fundamentals of natural language processing', '   understanding natural language processing', '   concepts behind natural language processing', '   principles of natural language processing', '   introduction to natural language processing']}, {'qid': '59', 'query': 'what is ahp', 'subqueries': [' introduction to ahp', '   overview of ahp', '   basic concepts of ahp', '   understanding ahp', '   principles of ahp']}, {'qid': '60', 'query': 'what is information retrieval', 'subqueries': [' introduction to information retrieval', '   overview of information retrieval', '   basic concepts of information retrieval', '   principles of information retrieval', '   understanding information retrieval']}]\n"
     ]
    }
   ],
   "source": [
    "for item in questions:\n",
    "    item['subqueries'] = item['subqueries'].replace('\\n', ' ').split('$')\n",
    "    del item['subqueries'][-1] #last item in list would be empty string, remove it\n",
    "print(questions)"
   ]
  },
  {
   "cell_type": "markdown",
   "metadata": {},
   "source": [
    "now do the ranking of each subquery\n"
   ]
  },
  {
   "cell_type": "code",
   "execution_count": 36,
   "metadata": {},
   "outputs": [],
   "source": [
    "bm25 = pt.BatchRetrieve(index, wmodel=\"BM25\")"
   ]
  },
  {
   "cell_type": "code",
   "execution_count": 75,
   "metadata": {},
   "outputs": [
    {
     "name": "stdout",
     "output_type": "stream",
     "text": [
      "5000\n"
     ]
    }
   ],
   "source": [
    "import pandas as pd\n",
    "final_score= list()\n",
    "for query in questions: #iterate list to get dict of query\n",
    "    qscores = list()\n",
    "    qid = query['qid']\n",
    "    old_query = query['query']\n",
    "    for i,subquery in enumerate(query['subqueries']): #iterate through subqueries key of dict\n",
    "        results = bm25.search(subquery) #rank each subquery, returns pd dataframe\n",
    "        for index, row in results.iterrows(): #iterate through dataframe and format it\n",
    "            docid = row['docid']\n",
    "            docno = row['docno']\n",
    "            score = row['score']\n",
    "            df_row = {'qid':qid, 'docid':docid, 'docno':docno, 'rank': index, 'score': score, 'query': subquery}\n",
    "            qscores.append(df_row)\n",
    "    final_score.append(qscores)\n",
    "df = pd.DataFrame(final_score[0])\n",
    "print(len(df))"
   ]
  },
  {
   "cell_type": "code",
   "execution_count": 81,
   "metadata": {},
   "outputs": [
    {
     "name": "stdout",
     "output_type": "stream",
     "text": [
      "5000\n",
      "4997\n",
      "5000\n"
     ]
    }
   ],
   "source": [
    "#construct dataframe for each query\n",
    "dataframes = list()\n",
    "for i in range(len(final_score)):\n",
    "    dataframes.append(pd.DataFrame(final_score[i]))"
   ]
  },
  {
   "cell_type": "code",
   "execution_count": 112,
   "metadata": {},
   "outputs": [
    {
     "data": {
      "text/html": [
       "<div>\n",
       "<style scoped>\n",
       "    .dataframe tbody tr th:only-of-type {\n",
       "        vertical-align: middle;\n",
       "    }\n",
       "\n",
       "    .dataframe tbody tr th {\n",
       "        vertical-align: top;\n",
       "    }\n",
       "\n",
       "    .dataframe thead th {\n",
       "        text-align: right;\n",
       "    }\n",
       "</style>\n",
       "<table border=\"1\" class=\"dataframe\">\n",
       "  <thead>\n",
       "    <tr style=\"text-align: right;\">\n",
       "      <th></th>\n",
       "      <th>qid</th>\n",
       "      <th>docid</th>\n",
       "      <th>docno</th>\n",
       "      <th>rank</th>\n",
       "      <th>score</th>\n",
       "      <th>query</th>\n",
       "    </tr>\n",
       "  </thead>\n",
       "  <tbody>\n",
       "    <tr>\n",
       "      <th>0</th>\n",
       "      <td>56</td>\n",
       "      <td>69635</td>\n",
       "      <td>C82-2020</td>\n",
       "      <td>0</td>\n",
       "      <td>18.680956</td>\n",
       "      <td>fundamentals of natural language processing</td>\n",
       "    </tr>\n",
       "    <tr>\n",
       "      <th>1</th>\n",
       "      <td>56</td>\n",
       "      <td>48955</td>\n",
       "      <td>J15-1007</td>\n",
       "      <td>1</td>\n",
       "      <td>18.662827</td>\n",
       "      <td>fundamentals of natural language processing</td>\n",
       "    </tr>\n",
       "    <tr>\n",
       "      <th>2</th>\n",
       "      <td>56</td>\n",
       "      <td>36863</td>\n",
       "      <td>R09-1050</td>\n",
       "      <td>2</td>\n",
       "      <td>18.205316</td>\n",
       "      <td>fundamentals of natural language processing</td>\n",
       "    </tr>\n",
       "  </tbody>\n",
       "</table>\n",
       "</div>"
      ],
      "text/plain": [
       "  qid  docid     docno  rank      score  \\\n",
       "0  56  69635  C82-2020     0  18.680956   \n",
       "1  56  48955  J15-1007     1  18.662827   \n",
       "2  56  36863  R09-1050     2  18.205316   \n",
       "\n",
       "                                          query  \n",
       "0   fundamentals of natural language processing  \n",
       "1   fundamentals of natural language processing  \n",
       "2   fundamentals of natural language processing  "
      ]
     },
     "execution_count": 112,
     "metadata": {},
     "output_type": "execute_result"
    }
   ],
   "source": [
    "dataframes[0].head(3)"
   ]
  },
  {
   "cell_type": "code",
   "execution_count": 120,
   "metadata": {},
   "outputs": [],
   "source": [
    "query_dataframe = list()\n",
    "seen_docnos = list()\n",
    "for index, row in dataframes[0].iterrows():\n",
    "    docno = row['docno']\n",
    "    if docno not in seen_docnos:\n",
    "        seen_docnos.append(docno)\n",
    "        indices = df.index[df['docno'] == docno].tolist()\n",
    "        sum_score = 0\n",
    "        for i in indices:\n",
    "            score = df.loc[i, 'score']\n",
    "            sum_score += score\n",
    "        query_dataframe.append({'qid':df.loc[i, 'qid'], 'docid': df.loc[i, 'docid'], 'docno': docno,'rank':0, 'score': sum_score, 'query': df.loc[i, 'query']})\n",
    "    else:\n",
    "        continue"
   ]
  },
  {
   "cell_type": "code",
   "execution_count": 121,
   "metadata": {},
   "outputs": [
    {
     "data": {
      "text/html": [
       "<div>\n",
       "<style scoped>\n",
       "    .dataframe tbody tr th:only-of-type {\n",
       "        vertical-align: middle;\n",
       "    }\n",
       "\n",
       "    .dataframe tbody tr th {\n",
       "        vertical-align: top;\n",
       "    }\n",
       "\n",
       "    .dataframe thead th {\n",
       "        text-align: right;\n",
       "    }\n",
       "</style>\n",
       "<table border=\"1\" class=\"dataframe\">\n",
       "  <thead>\n",
       "    <tr style=\"text-align: right;\">\n",
       "      <th></th>\n",
       "      <th>qid</th>\n",
       "      <th>docid</th>\n",
       "      <th>docno</th>\n",
       "      <th>rank</th>\n",
       "      <th>score</th>\n",
       "      <th>query</th>\n",
       "    </tr>\n",
       "  </thead>\n",
       "  <tbody>\n",
       "    <tr>\n",
       "      <th>0</th>\n",
       "      <td>56</td>\n",
       "      <td>69635</td>\n",
       "      <td>C82-2020</td>\n",
       "      <td>0</td>\n",
       "      <td>48.364692</td>\n",
       "      <td>introduction to natural language processing</td>\n",
       "    </tr>\n",
       "    <tr>\n",
       "      <th>1</th>\n",
       "      <td>56</td>\n",
       "      <td>48955</td>\n",
       "      <td>J15-1007</td>\n",
       "      <td>0</td>\n",
       "      <td>67.541749</td>\n",
       "      <td>introduction to natural language processing</td>\n",
       "    </tr>\n",
       "    <tr>\n",
       "      <th>2</th>\n",
       "      <td>56</td>\n",
       "      <td>36863</td>\n",
       "      <td>R09-1050</td>\n",
       "      <td>0</td>\n",
       "      <td>69.011352</td>\n",
       "      <td>introduction to natural language processing</td>\n",
       "    </tr>\n",
       "  </tbody>\n",
       "</table>\n",
       "</div>"
      ],
      "text/plain": [
       "  qid  docid     docno  rank      score  \\\n",
       "0  56  69635  C82-2020     0  48.364692   \n",
       "1  56  48955  J15-1007     0  67.541749   \n",
       "2  56  36863  R09-1050     0  69.011352   \n",
       "\n",
       "                                            query  \n",
       "0     introduction to natural language processing  \n",
       "1     introduction to natural language processing  \n",
       "2     introduction to natural language processing  "
      ]
     },
     "execution_count": 121,
     "metadata": {},
     "output_type": "execute_result"
    }
   ],
   "source": [
    "df0 = pd.DataFrame(query_dataframe)\n",
    "df0.head(3)"
   ]
  },
  {
   "cell_type": "code",
   "execution_count": 103,
   "metadata": {},
   "outputs": [
    {
     "name": "stdout",
     "output_type": "stream",
     "text": [
      "18.680955810882573\n",
      "9.894578773515217\n",
      "[0, 2942, 3792, 4885]\n"
     ]
    }
   ],
   "source": [
    "#now merge each dataframe\n",
    "\n",
    "#have a list of dicts where you store the qid, docno etc. as well as final score\n",
    "#loop through dataframe and get docno\n",
    "#if the docno not already in dict then look for all indices that have this docno\n",
    "#sum the score of each indice and add the docno with the final score to the dict\n",
    "#if the docno is already in the dict then skip\n",
    "df = dataframes[0]\n",
    "final_df = dict()\n",
    "df.head(3)\n",
    "indices = df.index[df['docno'] == 'C82-2020'].tolist()\n",
    "print(df.loc[0, 'score'])\n",
    "print(df.loc[3792, 'score'])\n",
    "print(indices)\n",
    "#df = df.to_dict()"
   ]
  },
  {
   "cell_type": "code",
   "execution_count": 43,
   "metadata": {},
   "outputs": [
    {
     "data": {
      "text/html": [
       "<div>\n",
       "<style scoped>\n",
       "    .dataframe tbody tr th:only-of-type {\n",
       "        vertical-align: middle;\n",
       "    }\n",
       "\n",
       "    .dataframe tbody tr th {\n",
       "        vertical-align: top;\n",
       "    }\n",
       "\n",
       "    .dataframe thead th {\n",
       "        text-align: right;\n",
       "    }\n",
       "</style>\n",
       "<table border=\"1\" class=\"dataframe\">\n",
       "  <thead>\n",
       "    <tr style=\"text-align: right;\">\n",
       "      <th></th>\n",
       "      <th>qid</th>\n",
       "      <th>docid</th>\n",
       "      <th>docno</th>\n",
       "      <th>rank</th>\n",
       "      <th>score</th>\n",
       "      <th>query</th>\n",
       "    </tr>\n",
       "  </thead>\n",
       "  <tbody>\n",
       "    <tr>\n",
       "      <th>0</th>\n",
       "      <td>1</td>\n",
       "      <td>101</td>\n",
       "      <td>D1</td>\n",
       "      <td>1</td>\n",
       "      <td>0.95</td>\n",
       "      <td>example query 1</td>\n",
       "    </tr>\n",
       "    <tr>\n",
       "      <th>1</th>\n",
       "      <td>1</td>\n",
       "      <td>102</td>\n",
       "      <td>D2</td>\n",
       "      <td>2</td>\n",
       "      <td>0.85</td>\n",
       "      <td>example query 1</td>\n",
       "    </tr>\n",
       "  </tbody>\n",
       "</table>\n",
       "</div>"
      ],
      "text/plain": [
       "   qid  docid docno  rank  score            query\n",
       "0    1    101    D1     1   0.95  example query 1\n",
       "1    1    102    D2     2   0.85  example query 1"
      ]
     },
     "execution_count": 43,
     "metadata": {},
     "output_type": "execute_result"
    }
   ],
   "source": [
    "#example of how to create dataframe\n",
    "import pandas as pd\n",
    "data = [\n",
    "    {\"qid\": 1, \"docid\": 101, \"docno\": \"D1\", \"rank\": 1, \"score\": 0.95, \"query\": \"example query 1\"},\n",
    "    {\"qid\": 1, \"docid\": 102, \"docno\": \"D2\", \"rank\": 2, \"score\": 0.85, \"query\": \"example query 1\"}\n",
    "]\n",
    "df = pd.DataFrame(data)\n",
    "df.head(2)"
   ]
  }
 ],
 "metadata": {
  "kernelspec": {
   "display_name": "Python 3",
   "language": "python",
   "name": "python3"
  },
  "language_info": {
   "codemirror_mode": {
    "name": "ipython",
    "version": 3
   },
   "file_extension": ".py",
   "mimetype": "text/x-python",
   "name": "python",
   "nbconvert_exporter": "python",
   "pygments_lexer": "ipython3",
   "version": "3.10.12"
  }
 },
 "nbformat": 4,
 "nbformat_minor": 2
}
