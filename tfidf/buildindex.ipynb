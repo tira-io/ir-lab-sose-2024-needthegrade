{
 "cells": [
  {
   "cell_type": "code",
   "execution_count": 37,
   "metadata": {},
   "outputs": [],
   "source": [
    "import re\n",
    "import numpy as np"
   ]
  },
  {
   "cell_type": "code",
   "execution_count": 34,
   "metadata": {},
   "outputs": [],
   "source": [
    "doc1 = \"Artificial intelligence is transforming the landscape of technology and innovation.\"\n",
    "doc2 = \"Machine learning and deep learning are subsets of artificial intelligence.\"\n",
    "docs = [doc1, doc2]"
   ]
  },
  {
   "cell_type": "markdown",
   "metadata": {},
   "source": [
    "Clean document"
   ]
  },
  {
   "cell_type": "code",
   "execution_count": 35,
   "metadata": {},
   "outputs": [],
   "source": [
    "def clean_doc(doc):\n",
    "    normalized = list()\n",
    "    tokens = doc.lower().split(\" \")\n",
    "\n",
    "    for token in tokens:\n",
    "        token = re.sub(r'[^\\w\\s]','',token) #remove punctuation\n",
    "        normalized.append(token)\n",
    "    return normalized\n",
    "    #todo: lemmatization"
   ]
  },
  {
   "cell_type": "code",
   "execution_count": 41,
   "metadata": {},
   "outputs": [
    {
     "name": "stdout",
     "output_type": "stream",
     "text": [
      "[['artificial', 'intelligence', 'is', 'transforming', 'the', 'landscape', 'of', 'technology', 'and', 'innovation'], ['machine', 'learning', 'and', 'deep', 'learning', 'are', 'subsets', 'of', 'artificial', 'intelligence']]\n"
     ]
    }
   ],
   "source": [
    "normalized_docs = list()\n",
    "for doc in docs:\n",
    "    normalized_docs.append(clean_doc(doc))\n",
    "print(normalized_docs)"
   ]
  },
  {
   "cell_type": "markdown",
   "metadata": {},
   "source": [
    "Build Index"
   ]
  },
  {
   "cell_type": "code",
   "execution_count": 48,
   "metadata": {},
   "outputs": [
    {
     "name": "stdout",
     "output_type": "stream",
     "text": [
      "[{'artificial': 1, 'intelligence': 1, 'is': 1, 'transforming': 1, 'the': 1, 'landscape': 1, 'of': 1, 'technology': 1, 'and': 1, 'innovation': 1}, {'machine': 1, 'learning': 2, 'and': 1, 'deep': 1, 'are': 1, 'subsets': 1, 'of': 1, 'artificial': 1, 'intelligence': 1}]\n"
     ]
    }
   ],
   "source": [
    "#term weighting\n",
    "\n",
    "docweights = list()\n",
    "for doc in normalized_docs:\n",
    "    term_weight = dict()\n",
    "    for term in doc:\n",
    "        if term not in term_weight:\n",
    "            term_weight[term] = 1\n",
    "        else:\n",
    "            term_weight[term] += 1\n",
    "    docweights.append(term_weight)\n",
    "\n",
    "#for item in docweights:\n",
    "#    for value in item:\n",
    "#        item[value] = np.log(item[value])\n",
    "\n",
    "print(docweights)"
   ]
  },
  {
   "cell_type": "code",
   "execution_count": 59,
   "metadata": {},
   "outputs": [
    {
     "name": "stdout",
     "output_type": "stream",
     "text": [
      "{'artificial': [[1, 'term_weight']], 'intelligence': [[1, 'term_weight']], 'is': [[0, 'term_weight']], 'transforming': [[0, 'term_weight']], 'the': [[0, 'term_weight']], 'landscape': [[0, 'term_weight']], 'of': [[1, 'term_weight']], 'technology': [[0, 'term_weight']], 'and': [[1, 'term_weight']], 'innovation': [[0, 'term_weight']], 'machine': [[1, 'term_weight']], 'learning': [[1, 'term_weight']], 'deep': [[1, 'term_weight']], 'are': [[1, 'term_weight']], 'subsets': [[1, 'term_weight']]}\n"
     ]
    }
   ],
   "source": [
    "#create postlist for every term\n",
    "\n",
    "index = dict()\n",
    "for i,doc in enumerate(normalized_docs):\n",
    "    #print(doc)\n",
    "    for term in doc:\n",
    "        #print(term)\n",
    "        postlist = list()\n",
    "        if term in doc:   \n",
    "            postlist.append([i, 'term_weight']) #todo: substitute term_weight with real term weight\n",
    "            #print(postlist)\n",
    "            index[term] = postlist\n",
    "print(index)\n",
    "    "
   ]
  }
 ],
 "metadata": {
  "kernelspec": {
   "display_name": "Python 3",
   "language": "python",
   "name": "python3"
  },
  "language_info": {
   "codemirror_mode": {
    "name": "ipython",
    "version": 3
   },
   "file_extension": ".py",
   "mimetype": "text/x-python",
   "name": "python",
   "nbconvert_exporter": "python",
   "pygments_lexer": "ipython3",
   "version": "3.10.12"
  }
 },
 "nbformat": 4,
 "nbformat_minor": 2
}
