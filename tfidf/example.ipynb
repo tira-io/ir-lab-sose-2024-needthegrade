{
 "cells": [
  {
   "cell_type": "code",
   "execution_count": 12,
   "metadata": {},
   "outputs": [],
   "source": [
    "import pandas as pd\n",
    "from sklearn.feature_extraction.text import TfidfVectorizer"
   ]
  },
  {
   "cell_type": "markdown",
   "metadata": {},
   "source": [
    "Corpus"
   ]
  },
  {
   "cell_type": "code",
   "execution_count": 13,
   "metadata": {},
   "outputs": [
    {
     "data": {
      "text/html": [
       "<div>\n",
       "<style scoped>\n",
       "    .dataframe tbody tr th:only-of-type {\n",
       "        vertical-align: middle;\n",
       "    }\n",
       "\n",
       "    .dataframe tbody tr th {\n",
       "        vertical-align: top;\n",
       "    }\n",
       "\n",
       "    .dataframe thead th {\n",
       "        text-align: right;\n",
       "    }\n",
       "</style>\n",
       "<table border=\"1\" class=\"dataframe\">\n",
       "  <thead>\n",
       "    <tr style=\"text-align: right;\">\n",
       "      <th></th>\n",
       "      <th>corpus</th>\n",
       "    </tr>\n",
       "    <tr>\n",
       "      <th>id</th>\n",
       "      <th></th>\n",
       "    </tr>\n",
       "  </thead>\n",
       "  <tbody>\n",
       "    <tr>\n",
       "      <th>0</th>\n",
       "      <td>sie trinkt kaffee und sie liest bücher</td>\n",
       "    </tr>\n",
       "    <tr>\n",
       "      <th>1</th>\n",
       "      <td>sie trinkt tee</td>\n",
       "    </tr>\n",
       "    <tr>\n",
       "      <th>2</th>\n",
       "      <td>sie kauft bücher</td>\n",
       "    </tr>\n",
       "  </tbody>\n",
       "</table>\n",
       "</div>"
      ],
      "text/plain": [
       "                                    corpus\n",
       "id                                        \n",
       "0   sie trinkt kaffee und sie liest bücher\n",
       "1                           sie trinkt tee\n",
       "2                         sie kauft bücher"
      ]
     },
     "execution_count": 13,
     "metadata": {},
     "output_type": "execute_result"
    }
   ],
   "source": [
    "a = 'sie trinkt kaffee und sie liest bücher'\n",
    "b = 'sie trinkt tee'\n",
    "c = 'sie kauft bücher'\n",
    "\n",
    "df = pd.DataFrame({'corpus': [a,b,c]})\n",
    "df.index.name='id'\n",
    "df"
   ]
  },
  {
   "cell_type": "markdown",
   "metadata": {},
   "source": [
    "tdidf-matrix"
   ]
  },
  {
   "cell_type": "code",
   "execution_count": 14,
   "metadata": {},
   "outputs": [
    {
     "data": {
      "text/html": [
       "<div>\n",
       "<style scoped>\n",
       "    .dataframe tbody tr th:only-of-type {\n",
       "        vertical-align: middle;\n",
       "    }\n",
       "\n",
       "    .dataframe tbody tr th {\n",
       "        vertical-align: top;\n",
       "    }\n",
       "\n",
       "    .dataframe thead th {\n",
       "        text-align: right;\n",
       "    }\n",
       "</style>\n",
       "<table border=\"1\" class=\"dataframe\">\n",
       "  <thead>\n",
       "    <tr style=\"text-align: right;\">\n",
       "      <th></th>\n",
       "      <th>bücher</th>\n",
       "      <th>kaffee</th>\n",
       "      <th>kauft</th>\n",
       "      <th>liest</th>\n",
       "      <th>sie</th>\n",
       "      <th>tee</th>\n",
       "      <th>trinkt</th>\n",
       "      <th>und</th>\n",
       "    </tr>\n",
       "    <tr>\n",
       "      <th>id</th>\n",
       "      <th></th>\n",
       "      <th></th>\n",
       "      <th></th>\n",
       "      <th></th>\n",
       "      <th></th>\n",
       "      <th></th>\n",
       "      <th></th>\n",
       "      <th></th>\n",
       "    </tr>\n",
       "  </thead>\n",
       "  <tbody>\n",
       "    <tr>\n",
       "      <th>0</th>\n",
       "      <td>1.287682</td>\n",
       "      <td>1.693147</td>\n",
       "      <td>0.000000</td>\n",
       "      <td>1.693147</td>\n",
       "      <td>2.0</td>\n",
       "      <td>0.000000</td>\n",
       "      <td>1.287682</td>\n",
       "      <td>1.693147</td>\n",
       "    </tr>\n",
       "    <tr>\n",
       "      <th>1</th>\n",
       "      <td>0.000000</td>\n",
       "      <td>0.000000</td>\n",
       "      <td>0.000000</td>\n",
       "      <td>0.000000</td>\n",
       "      <td>1.0</td>\n",
       "      <td>1.693147</td>\n",
       "      <td>1.287682</td>\n",
       "      <td>0.000000</td>\n",
       "    </tr>\n",
       "    <tr>\n",
       "      <th>2</th>\n",
       "      <td>1.287682</td>\n",
       "      <td>0.000000</td>\n",
       "      <td>1.693147</td>\n",
       "      <td>0.000000</td>\n",
       "      <td>1.0</td>\n",
       "      <td>0.000000</td>\n",
       "      <td>0.000000</td>\n",
       "      <td>0.000000</td>\n",
       "    </tr>\n",
       "  </tbody>\n",
       "</table>\n",
       "</div>"
      ],
      "text/plain": [
       "      bücher    kaffee     kauft     liest  sie       tee    trinkt       und\n",
       "id                                                                           \n",
       "0   1.287682  1.693147  0.000000  1.693147  2.0  0.000000  1.287682  1.693147\n",
       "1   0.000000  0.000000  0.000000  0.000000  1.0  1.693147  1.287682  0.000000\n",
       "2   1.287682  0.000000  1.693147  0.000000  1.0  0.000000  0.000000  0.000000"
      ]
     },
     "execution_count": 14,
     "metadata": {},
     "output_type": "execute_result"
    }
   ],
   "source": [
    "#matrix multiplication\n",
    "data = df['corpus'].tolist()\n",
    "model = TfidfVectorizer(norm=None)\n",
    "model.fit(data)\n",
    "X = model.transform(data)\n",
    "\n",
    "dcount = pd.DataFrame(X.toarray(), columns = model.get_feature_names_out())\n",
    "dcount.index.name='id'\n",
    "dcount"
   ]
  },
  {
   "cell_type": "markdown",
   "metadata": {},
   "source": [
    "query"
   ]
  },
  {
   "cell_type": "code",
   "execution_count": 15,
   "metadata": {},
   "outputs": [
    {
     "data": {
      "text/plain": [
       "['sie trinkt limonade', 'sie trinkt tee', 'er trinkt wasser', 'Es regnet']"
      ]
     },
     "execution_count": 15,
     "metadata": {},
     "output_type": "execute_result"
    }
   ],
   "source": [
    "querys = [\"sie trinkt limonade\", \"sie trinkt tee\", \"er trinkt wasser\", \"Es regnet\"]\n",
    "querys"
   ]
  },
  {
   "cell_type": "code",
   "execution_count": 17,
   "metadata": {},
   "outputs": [
    {
     "name": "stdout",
     "output_type": "stream",
     "text": [
      "<class 'scipy.sparse._csr.csr_matrix'>\n"
     ]
    },
    {
     "data": {
      "text/html": [
       "<div>\n",
       "<style scoped>\n",
       "    .dataframe tbody tr th:only-of-type {\n",
       "        vertical-align: middle;\n",
       "    }\n",
       "\n",
       "    .dataframe tbody tr th {\n",
       "        vertical-align: top;\n",
       "    }\n",
       "\n",
       "    .dataframe thead th {\n",
       "        text-align: right;\n",
       "    }\n",
       "</style>\n",
       "<table border=\"1\" class=\"dataframe\">\n",
       "  <thead>\n",
       "    <tr style=\"text-align: right;\">\n",
       "      <th></th>\n",
       "      <th>bücher</th>\n",
       "      <th>kaffee</th>\n",
       "      <th>kauft</th>\n",
       "      <th>liest</th>\n",
       "      <th>sie</th>\n",
       "      <th>tee</th>\n",
       "      <th>trinkt</th>\n",
       "      <th>und</th>\n",
       "    </tr>\n",
       "  </thead>\n",
       "  <tbody>\n",
       "    <tr>\n",
       "      <th>0</th>\n",
       "      <td>0.0</td>\n",
       "      <td>0.0</td>\n",
       "      <td>0.0</td>\n",
       "      <td>0.0</td>\n",
       "      <td>1.0</td>\n",
       "      <td>0.000000</td>\n",
       "      <td>1.287682</td>\n",
       "      <td>0.0</td>\n",
       "    </tr>\n",
       "    <tr>\n",
       "      <th>1</th>\n",
       "      <td>0.0</td>\n",
       "      <td>0.0</td>\n",
       "      <td>0.0</td>\n",
       "      <td>0.0</td>\n",
       "      <td>1.0</td>\n",
       "      <td>1.693147</td>\n",
       "      <td>1.287682</td>\n",
       "      <td>0.0</td>\n",
       "    </tr>\n",
       "    <tr>\n",
       "      <th>2</th>\n",
       "      <td>0.0</td>\n",
       "      <td>0.0</td>\n",
       "      <td>0.0</td>\n",
       "      <td>0.0</td>\n",
       "      <td>0.0</td>\n",
       "      <td>0.000000</td>\n",
       "      <td>1.287682</td>\n",
       "      <td>0.0</td>\n",
       "    </tr>\n",
       "    <tr>\n",
       "      <th>3</th>\n",
       "      <td>0.0</td>\n",
       "      <td>0.0</td>\n",
       "      <td>0.0</td>\n",
       "      <td>0.0</td>\n",
       "      <td>0.0</td>\n",
       "      <td>0.000000</td>\n",
       "      <td>0.000000</td>\n",
       "      <td>0.0</td>\n",
       "    </tr>\n",
       "  </tbody>\n",
       "</table>\n",
       "</div>"
      ],
      "text/plain": [
       "   bücher  kaffee  kauft  liest  sie       tee    trinkt  und\n",
       "0     0.0     0.0    0.0    0.0  1.0  0.000000  1.287682  0.0\n",
       "1     0.0     0.0    0.0    0.0  1.0  1.693147  1.287682  0.0\n",
       "2     0.0     0.0    0.0    0.0  0.0  0.000000  1.287682  0.0\n",
       "3     0.0     0.0    0.0    0.0  0.0  0.000000  0.000000  0.0"
      ]
     },
     "execution_count": 17,
     "metadata": {},
     "output_type": "execute_result"
    }
   ],
   "source": [
    "Xq = model.transform(querys)\n",
    "print(type(Xq))\n",
    "\n",
    "#  columns = model.get_feature_names_out()\n",
    "pd.DataFrame(columns=dcount.columns, data = Xq.toarray())"
   ]
  },
  {
   "cell_type": "markdown",
   "metadata": {},
   "source": [
    "Search Result"
   ]
  },
  {
   "cell_type": "code",
   "execution_count": 18,
   "metadata": {},
   "outputs": [
    {
     "name": "stdout",
     "output_type": "stream",
     "text": [
      "Xa shape:  (3, 8)\n"
     ]
    },
    {
     "data": {
      "text/plain": [
       "array([[1.28768207, 1.69314718, 0.        , 1.69314718, 2.        ,\n",
       "        0.        , 1.28768207, 1.69314718],\n",
       "       [0.        , 0.        , 0.        , 0.        , 1.        ,\n",
       "        1.69314718, 1.28768207, 0.        ],\n",
       "       [1.28768207, 0.        , 1.69314718, 0.        , 1.        ,\n",
       "        0.        , 0.        , 0.        ]])"
      ]
     },
     "metadata": {},
     "output_type": "display_data"
    },
    {
     "name": "stdout",
     "output_type": "stream",
     "text": [
      "\n",
      "Xqa shape:  (4, 8)\n"
     ]
    },
    {
     "data": {
      "text/plain": [
       "array([[0.        , 0.        , 0.        , 0.        , 1.        ,\n",
       "        0.        , 1.28768207, 0.        ],\n",
       "       [0.        , 0.        , 0.        , 0.        , 1.        ,\n",
       "        1.69314718, 1.28768207, 0.        ],\n",
       "       [0.        , 0.        , 0.        , 0.        , 0.        ,\n",
       "        0.        , 1.28768207, 0.        ],\n",
       "       [0.        , 0.        , 0.        , 0.        , 0.        ,\n",
       "        0.        , 0.        , 0.        ]])"
      ]
     },
     "metadata": {},
     "output_type": "display_data"
    }
   ],
   "source": [
    "Xa = X.toarray()\n",
    "Xqa = Xq.toarray()\n",
    "\n",
    "print('Xa shape: ', Xa.shape)\n",
    "display(Xa)\n",
    "print()\n",
    "print('Xqa shape: ', Xqa.shape)\n",
    "display(Xqa)"
   ]
  },
  {
   "cell_type": "code",
   "execution_count": 19,
   "metadata": {},
   "outputs": [
    {
     "name": "stdout",
     "output_type": "stream",
     "text": [
      "result: \n"
     ]
    },
    {
     "data": {
      "text/plain": [
       "array([[3.65812512, 2.65812512, 1.        ],\n",
       "       [3.65812512, 5.52487249, 1.        ],\n",
       "       [1.65812512, 1.65812512, 0.        ],\n",
       "       [0.        , 0.        , 0.        ]])"
      ]
     },
     "execution_count": 19,
     "metadata": {},
     "output_type": "execute_result"
    }
   ],
   "source": [
    "result = Xqa @ Xa.T\n",
    "print('result: ')\n",
    "result"
   ]
  },
  {
   "cell_type": "code",
   "execution_count": 35,
   "metadata": {},
   "outputs": [
    {
     "name": "stdout",
     "output_type": "stream",
     "text": [
      "Query: sie trinkt limonade\n",
      "                                    corpus    result\n",
      "id                                                  \n",
      "0   sie trinkt kaffee und sie liest bücher  3.658125\n",
      "1                           sie trinkt tee  2.658125\n",
      "2                         sie kauft bücher  1.000000\n",
      "Query: sie trinkt tee\n",
      "                                    corpus    result\n",
      "id                                                  \n",
      "0   sie trinkt kaffee und sie liest bücher  3.658125\n",
      "1                           sie trinkt tee  5.524872\n",
      "2                         sie kauft bücher  1.000000\n",
      "Query: er trinkt wasser\n",
      "                                    corpus    result\n",
      "id                                                  \n",
      "0   sie trinkt kaffee und sie liest bücher  1.658125\n",
      "1                           sie trinkt tee  1.658125\n",
      "2                         sie kauft bücher  0.000000\n",
      "Query: Es regnet\n",
      "                                    corpus  result\n",
      "id                                                \n",
      "0   sie trinkt kaffee und sie liest bücher     0.0\n",
      "1                           sie trinkt tee     0.0\n",
      "2                         sie kauft bücher     0.0\n"
     ]
    }
   ],
   "source": [
    "for index in range(len(result)):\n",
    "    df['result'] = result[index]\n",
    "    print('Query:',querys[index])\n",
    "    print(df)"
   ]
  }
 ],
 "metadata": {
  "kernelspec": {
   "display_name": "Python 3",
   "language": "python",
   "name": "python3"
  },
  "language_info": {
   "codemirror_mode": {
    "name": "ipython",
    "version": 3
   },
   "file_extension": ".py",
   "mimetype": "text/x-python",
   "name": "python",
   "nbconvert_exporter": "python",
   "pygments_lexer": "ipython3",
   "version": "3.10.12"
  }
 },
 "nbformat": 4,
 "nbformat_minor": 2
}
